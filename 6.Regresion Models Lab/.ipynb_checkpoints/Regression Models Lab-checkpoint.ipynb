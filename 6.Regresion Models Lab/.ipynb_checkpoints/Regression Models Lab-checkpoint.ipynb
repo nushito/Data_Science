{
 "cells": [
  {
   "cell_type": "code",
   "execution_count": 4,
   "id": "b1a21845-5edc-410a-ab41-5196319ddec6",
   "metadata": {},
   "outputs": [],
   "source": [
    "%matplotlib inline"
   ]
  },
  {
   "cell_type": "code",
   "execution_count": 2,
   "id": "19a7b5fb-f6b1-4a4c-9083-2b16bce50e7e",
   "metadata": {},
   "outputs": [],
   "source": [
    "import pandas as pd\n",
    "import numpy as np\n",
    "import matplotlib.pyplot as plt"
   ]
  },
  {
   "cell_type": "markdown",
   "id": "d3786fdb-7af6-4ce2-b730-90c60a5d896f",
   "metadata": {},
   "source": [
    "# Regression Models Lab\n",
    "## Linear and logistic regression: theory and practice"
   ]
  },
  {
   "cell_type": "markdown",
   "id": "56d6ff4b-e18a-4580-8c7c-54f4c7ef2dc9",
   "metadata": {},
   "source": [
    "In this lab you'll revisit and expand on your knowledge of modelling in general, as well as the fundamentals of linear and logistic regression. As a reminder, _linear regression_ is a regression model (regressor), and _logistic regression_ is a classification model (classifier).\n",
    "\n",
    "This time, you'll use generated data, in order to separate some of the complexity of handling various datasets from inspecting and evaluating models.\n",
    "\n",
    "**Use vectorization as much as possible!** You should be able to complete the lab using for-loops only to track the training steps."
   ]
  },
  {
   "cell_type": "markdown",
   "id": "2b8a9603-c803-4728-a69d-b6acfe2bad8a",
   "metadata": {},
   "source": [
    "### Problem 1. Generate some data for multiple linear regression (1 point)\n",
    "As an expansion to the lecture, you'll create a dataset and a model.\n",
    "\n",
    "Create a dataset of some (e.g., 50-500) observations of several (e.g., 5-20) independent features. You can use random generators for them; think about what distributions you'd like to use. Let's call them $x_1, x_2, ..., x_m$. The data matrix $X$ you should get should be of size $n \\times m$. It's best if all features have different ranges.\n",
    "\n",
    "Create the dependent variable by assigning coefficients $\\bar{a_1}, \\bar{a_2}, ..., \\bar{a_m}, \\bar{b}$ and calculating $y$ as a linear combination of the input features. Add some random noise to the functional values. I've used bars over coefficients to avoid confusion with the model parameters later.\n",
    "\n",
    "Save the dataset ($X$ and $y$), and \"forget\" that the coefficients have ever existed. \"All\" you have is the file and the implicit assumption that there is a linear relationship between $X$ and $y$."
   ]
  },
  {
   "cell_type": "code",
   "execution_count": 8,
   "id": "f82d3ed2-0be7-4b9a-b893-6b955e6e8191",
   "metadata": {},
   "outputs": [],
   "source": [
    "features = []\n",
    "for i in range(10):\n",
    "    x = np.linspace(-2,8,200)\n",
    "    features.append(x)"
   ]
  },
  {
   "cell_type": "code",
   "execution_count": 27,
   "id": "0756b65a-e044-490a-8f8c-91d34484dec3",
   "metadata": {},
   "outputs": [
    {
     "data": {
      "text/plain": [
       "10"
      ]
     },
     "execution_count": 27,
     "metadata": {},
     "output_type": "execute_result"
    }
   ],
   "source": [
    "len(features)"
   ]
  },
  {
   "cell_type": "code",
   "execution_count": 28,
   "id": "be26119b-0cae-4068-9564-0b934c176eb3",
   "metadata": {},
   "outputs": [
    {
     "data": {
      "text/plain": [
       "array([[ 9.34722161e-01, -6.20833395e-01, -2.17638895e+00, ...,\n",
       "        -9.95416673e+00, -1.15097223e+01, -1.30652778e+01],\n",
       "       [ 3.00250321e+00,  1.48603197e+00, -3.04392796e-02, ...,\n",
       "        -7.61279551e+00, -9.12926675e+00, -1.06457380e+01],\n",
       "       [ 2.94040567e+00,  1.46301873e+00, -1.43682016e-02, ...,\n",
       "        -7.40130287e+00, -8.87868981e+00, -1.03560767e+01],\n",
       "       ...,\n",
       "       [ 2.19907740e+01,  2.81348276e+01,  3.42788812e+01, ...,\n",
       "         6.49991492e+01,  7.11432028e+01,  7.72872564e+01],\n",
       "       [ 2.23018406e+01,  2.84849785e+01,  3.46681164e+01, ...,\n",
       "         6.55838059e+01,  7.17669439e+01,  7.79500818e+01],\n",
       "       [ 2.18114194e+01,  2.80336416e+01,  3.42558638e+01, ...,\n",
       "         6.53669749e+01,  7.15891971e+01,  7.78114194e+01]])"
      ]
     },
     "execution_count": 28,
     "metadata": {},
     "output_type": "execute_result"
    }
   ],
   "source": [
    "coeff_a = np.linspace(2 , 9, len(features))\n",
    "coeff_b = 6\n",
    "y = [(coeff_a[a] * features[a] + coeff_b) for a in np.arange(0, len(coeff_a))]\n",
    "y_noise = np.random.normal(loc = 0, scale = 0.7, size = len(features[0]))\n",
    "y += y_noise\n",
    "y.T"
   ]
  },
  {
   "cell_type": "code",
   "execution_count": 83,
   "id": "4ac04ed6-12b1-454a-bacb-31322b13c9e9",
   "metadata": {},
   "outputs": [],
   "source": [
    "columns_x = [(\"x\"+str(i)) for i in range(1,len(features)+1)]\n",
    "dataset_creted = pd.DataFrame(data = y.T, columns = [columns_x])\n"
   ]
  },
  {
   "cell_type": "markdown",
   "id": "c4bb4164-eaa3-4b76-ae3f-36da95416b7b",
   "metadata": {},
   "source": [
    "### Problem 2. Check your assumption (1 point)\n",
    "Read the dataset you just saved (this is just to simulate starting a new project). It's a good idea to test and verify our assumptions. Find a way to check whether there really is a linear relationship between the features and output."
   ]
  },
  {
   "cell_type": "code",
   "execution_count": 84,
   "id": "d13c8452-5eb1-4719-88da-372331cfce82",
   "metadata": {},
   "outputs": [
    {
     "data": {
      "text/html": [
       "<div>\n",
       "<style scoped>\n",
       "    .dataframe tbody tr th:only-of-type {\n",
       "        vertical-align: middle;\n",
       "    }\n",
       "\n",
       "    .dataframe tbody tr th {\n",
       "        vertical-align: top;\n",
       "    }\n",
       "\n",
       "    .dataframe thead tr th {\n",
       "        text-align: left;\n",
       "    }\n",
       "</style>\n",
       "<table border=\"1\" class=\"dataframe\">\n",
       "  <thead>\n",
       "    <tr>\n",
       "      <th></th>\n",
       "      <th>x1</th>\n",
       "      <th>x2</th>\n",
       "      <th>x3</th>\n",
       "      <th>x4</th>\n",
       "      <th>x5</th>\n",
       "      <th>x6</th>\n",
       "      <th>x7</th>\n",
       "      <th>x8</th>\n",
       "      <th>x9</th>\n",
       "      <th>x10</th>\n",
       "    </tr>\n",
       "  </thead>\n",
       "  <tbody>\n",
       "    <tr>\n",
       "      <th>0</th>\n",
       "      <td>0.934722</td>\n",
       "      <td>-0.620833</td>\n",
       "      <td>-2.176389</td>\n",
       "      <td>-3.731945</td>\n",
       "      <td>-5.287500</td>\n",
       "      <td>-6.843056</td>\n",
       "      <td>-8.398611</td>\n",
       "      <td>-9.954167</td>\n",
       "      <td>-11.509722</td>\n",
       "      <td>-13.065278</td>\n",
       "    </tr>\n",
       "    <tr>\n",
       "      <th>1</th>\n",
       "      <td>3.002503</td>\n",
       "      <td>1.486032</td>\n",
       "      <td>-0.030439</td>\n",
       "      <td>-1.546911</td>\n",
       "      <td>-3.063382</td>\n",
       "      <td>-4.579853</td>\n",
       "      <td>-6.096324</td>\n",
       "      <td>-7.612796</td>\n",
       "      <td>-9.129267</td>\n",
       "      <td>-10.645738</td>\n",
       "    </tr>\n",
       "    <tr>\n",
       "      <th>2</th>\n",
       "      <td>2.940406</td>\n",
       "      <td>1.463019</td>\n",
       "      <td>-0.014368</td>\n",
       "      <td>-1.491755</td>\n",
       "      <td>-2.969142</td>\n",
       "      <td>-4.446529</td>\n",
       "      <td>-5.923916</td>\n",
       "      <td>-7.401303</td>\n",
       "      <td>-8.878690</td>\n",
       "      <td>-10.356077</td>\n",
       "    </tr>\n",
       "    <tr>\n",
       "      <th>3</th>\n",
       "      <td>2.015952</td>\n",
       "      <td>0.577650</td>\n",
       "      <td>-0.860653</td>\n",
       "      <td>-2.298956</td>\n",
       "      <td>-3.737258</td>\n",
       "      <td>-5.175561</td>\n",
       "      <td>-6.613864</td>\n",
       "      <td>-8.052166</td>\n",
       "      <td>-9.490469</td>\n",
       "      <td>-10.928771</td>\n",
       "    </tr>\n",
       "    <tr>\n",
       "      <th>4</th>\n",
       "      <td>2.110953</td>\n",
       "      <td>0.711734</td>\n",
       "      <td>-0.687484</td>\n",
       "      <td>-2.086702</td>\n",
       "      <td>-3.485921</td>\n",
       "      <td>-4.885139</td>\n",
       "      <td>-6.284357</td>\n",
       "      <td>-7.683576</td>\n",
       "      <td>-9.082794</td>\n",
       "      <td>-10.482012</td>\n",
       "    </tr>\n",
       "    <tr>\n",
       "      <th>...</th>\n",
       "      <td>...</td>\n",
       "      <td>...</td>\n",
       "      <td>...</td>\n",
       "      <td>...</td>\n",
       "      <td>...</td>\n",
       "      <td>...</td>\n",
       "      <td>...</td>\n",
       "      <td>...</td>\n",
       "      <td>...</td>\n",
       "      <td>...</td>\n",
       "    </tr>\n",
       "    <tr>\n",
       "      <th>195</th>\n",
       "      <td>22.879184</td>\n",
       "      <td>28.945069</td>\n",
       "      <td>35.010954</td>\n",
       "      <td>41.076839</td>\n",
       "      <td>47.142724</td>\n",
       "      <td>53.208609</td>\n",
       "      <td>59.274494</td>\n",
       "      <td>65.340379</td>\n",
       "      <td>71.406264</td>\n",
       "      <td>77.472149</td>\n",
       "    </tr>\n",
       "    <tr>\n",
       "      <th>196</th>\n",
       "      <td>21.434690</td>\n",
       "      <td>27.539659</td>\n",
       "      <td>33.644629</td>\n",
       "      <td>39.749598</td>\n",
       "      <td>45.854567</td>\n",
       "      <td>51.959537</td>\n",
       "      <td>58.064506</td>\n",
       "      <td>64.169475</td>\n",
       "      <td>70.274444</td>\n",
       "      <td>76.379414</td>\n",
       "    </tr>\n",
       "    <tr>\n",
       "      <th>197</th>\n",
       "      <td>21.990774</td>\n",
       "      <td>28.134828</td>\n",
       "      <td>34.278881</td>\n",
       "      <td>40.422935</td>\n",
       "      <td>46.566988</td>\n",
       "      <td>52.711042</td>\n",
       "      <td>58.855096</td>\n",
       "      <td>64.999149</td>\n",
       "      <td>71.143203</td>\n",
       "      <td>77.287256</td>\n",
       "    </tr>\n",
       "    <tr>\n",
       "      <th>198</th>\n",
       "      <td>22.301841</td>\n",
       "      <td>28.484978</td>\n",
       "      <td>34.668116</td>\n",
       "      <td>40.851254</td>\n",
       "      <td>47.034392</td>\n",
       "      <td>53.217530</td>\n",
       "      <td>59.400668</td>\n",
       "      <td>65.583806</td>\n",
       "      <td>71.766944</td>\n",
       "      <td>77.950082</td>\n",
       "    </tr>\n",
       "    <tr>\n",
       "      <th>199</th>\n",
       "      <td>21.811419</td>\n",
       "      <td>28.033642</td>\n",
       "      <td>34.255864</td>\n",
       "      <td>40.478086</td>\n",
       "      <td>46.700308</td>\n",
       "      <td>52.922530</td>\n",
       "      <td>59.144753</td>\n",
       "      <td>65.366975</td>\n",
       "      <td>71.589197</td>\n",
       "      <td>77.811419</td>\n",
       "    </tr>\n",
       "  </tbody>\n",
       "</table>\n",
       "<p>200 rows × 10 columns</p>\n",
       "</div>"
      ],
      "text/plain": [
       "            x1         x2         x3         x4         x5         x6  \\\n",
       "0     0.934722  -0.620833  -2.176389  -3.731945  -5.287500  -6.843056   \n",
       "1     3.002503   1.486032  -0.030439  -1.546911  -3.063382  -4.579853   \n",
       "2     2.940406   1.463019  -0.014368  -1.491755  -2.969142  -4.446529   \n",
       "3     2.015952   0.577650  -0.860653  -2.298956  -3.737258  -5.175561   \n",
       "4     2.110953   0.711734  -0.687484  -2.086702  -3.485921  -4.885139   \n",
       "..         ...        ...        ...        ...        ...        ...   \n",
       "195  22.879184  28.945069  35.010954  41.076839  47.142724  53.208609   \n",
       "196  21.434690  27.539659  33.644629  39.749598  45.854567  51.959537   \n",
       "197  21.990774  28.134828  34.278881  40.422935  46.566988  52.711042   \n",
       "198  22.301841  28.484978  34.668116  40.851254  47.034392  53.217530   \n",
       "199  21.811419  28.033642  34.255864  40.478086  46.700308  52.922530   \n",
       "\n",
       "            x7         x8         x9        x10  \n",
       "0    -8.398611  -9.954167 -11.509722 -13.065278  \n",
       "1    -6.096324  -7.612796  -9.129267 -10.645738  \n",
       "2    -5.923916  -7.401303  -8.878690 -10.356077  \n",
       "3    -6.613864  -8.052166  -9.490469 -10.928771  \n",
       "4    -6.284357  -7.683576  -9.082794 -10.482012  \n",
       "..         ...        ...        ...        ...  \n",
       "195  59.274494  65.340379  71.406264  77.472149  \n",
       "196  58.064506  64.169475  70.274444  76.379414  \n",
       "197  58.855096  64.999149  71.143203  77.287256  \n",
       "198  59.400668  65.583806  71.766944  77.950082  \n",
       "199  59.144753  65.366975  71.589197  77.811419  \n",
       "\n",
       "[200 rows x 10 columns]"
      ]
     },
     "execution_count": 84,
     "metadata": {},
     "output_type": "execute_result"
    }
   ],
   "source": [
    "dataset_creted"
   ]
  },
  {
   "cell_type": "code",
   "execution_count": 85,
   "id": "8be6e323-44c3-4240-9395-d4c4ae1308c6",
   "metadata": {},
   "outputs": [
    {
     "data": {
      "text/html": [
       "<div>\n",
       "<style scoped>\n",
       "    .dataframe tbody tr th:only-of-type {\n",
       "        vertical-align: middle;\n",
       "    }\n",
       "\n",
       "    .dataframe tbody tr th {\n",
       "        vertical-align: top;\n",
       "    }\n",
       "\n",
       "    .dataframe thead tr th {\n",
       "        text-align: left;\n",
       "    }\n",
       "</style>\n",
       "<table border=\"1\" class=\"dataframe\">\n",
       "  <thead>\n",
       "    <tr>\n",
       "      <th></th>\n",
       "      <th>x1</th>\n",
       "      <th>x2</th>\n",
       "      <th>x3</th>\n",
       "      <th>x4</th>\n",
       "      <th>x5</th>\n",
       "      <th>x6</th>\n",
       "      <th>x7</th>\n",
       "      <th>x8</th>\n",
       "      <th>x9</th>\n",
       "      <th>x10</th>\n",
       "    </tr>\n",
       "  </thead>\n",
       "  <tbody>\n",
       "    <tr>\n",
       "      <th>x1</th>\n",
       "      <td>1.000000</td>\n",
       "      <td>0.999451</td>\n",
       "      <td>0.998656</td>\n",
       "      <td>0.997960</td>\n",
       "      <td>0.997390</td>\n",
       "      <td>0.996926</td>\n",
       "      <td>0.996544</td>\n",
       "      <td>0.996226</td>\n",
       "      <td>0.995958</td>\n",
       "      <td>0.995729</td>\n",
       "    </tr>\n",
       "    <tr>\n",
       "      <th>x2</th>\n",
       "      <td>0.999451</td>\n",
       "      <td>1.000000</td>\n",
       "      <td>0.999825</td>\n",
       "      <td>0.999527</td>\n",
       "      <td>0.999234</td>\n",
       "      <td>0.998974</td>\n",
       "      <td>0.998749</td>\n",
       "      <td>0.998554</td>\n",
       "      <td>0.998387</td>\n",
       "      <td>0.998241</td>\n",
       "    </tr>\n",
       "    <tr>\n",
       "      <th>x3</th>\n",
       "      <td>0.998656</td>\n",
       "      <td>0.999825</td>\n",
       "      <td>1.000000</td>\n",
       "      <td>0.999928</td>\n",
       "      <td>0.999792</td>\n",
       "      <td>0.999647</td>\n",
       "      <td>0.999510</td>\n",
       "      <td>0.999386</td>\n",
       "      <td>0.999275</td>\n",
       "      <td>0.999176</td>\n",
       "    </tr>\n",
       "    <tr>\n",
       "      <th>x4</th>\n",
       "      <td>0.997960</td>\n",
       "      <td>0.999527</td>\n",
       "      <td>0.999928</td>\n",
       "      <td>1.000000</td>\n",
       "      <td>0.999965</td>\n",
       "      <td>0.999894</td>\n",
       "      <td>0.999814</td>\n",
       "      <td>0.999735</td>\n",
       "      <td>0.999660</td>\n",
       "      <td>0.999592</td>\n",
       "    </tr>\n",
       "    <tr>\n",
       "      <th>x5</th>\n",
       "      <td>0.997390</td>\n",
       "      <td>0.999234</td>\n",
       "      <td>0.999792</td>\n",
       "      <td>0.999965</td>\n",
       "      <td>1.000000</td>\n",
       "      <td>0.999981</td>\n",
       "      <td>0.999941</td>\n",
       "      <td>0.999893</td>\n",
       "      <td>0.999844</td>\n",
       "      <td>0.999796</td>\n",
       "    </tr>\n",
       "    <tr>\n",
       "      <th>x6</th>\n",
       "      <td>0.996926</td>\n",
       "      <td>0.998974</td>\n",
       "      <td>0.999647</td>\n",
       "      <td>0.999894</td>\n",
       "      <td>0.999981</td>\n",
       "      <td>1.000000</td>\n",
       "      <td>0.999989</td>\n",
       "      <td>0.999964</td>\n",
       "      <td>0.999934</td>\n",
       "      <td>0.999902</td>\n",
       "    </tr>\n",
       "    <tr>\n",
       "      <th>x7</th>\n",
       "      <td>0.996544</td>\n",
       "      <td>0.998749</td>\n",
       "      <td>0.999510</td>\n",
       "      <td>0.999814</td>\n",
       "      <td>0.999941</td>\n",
       "      <td>0.999989</td>\n",
       "      <td>1.000000</td>\n",
       "      <td>0.999993</td>\n",
       "      <td>0.999977</td>\n",
       "      <td>0.999957</td>\n",
       "    </tr>\n",
       "    <tr>\n",
       "      <th>x8</th>\n",
       "      <td>0.996226</td>\n",
       "      <td>0.998554</td>\n",
       "      <td>0.999386</td>\n",
       "      <td>0.999735</td>\n",
       "      <td>0.999893</td>\n",
       "      <td>0.999964</td>\n",
       "      <td>0.999993</td>\n",
       "      <td>1.000000</td>\n",
       "      <td>0.999995</td>\n",
       "      <td>0.999985</td>\n",
       "    </tr>\n",
       "    <tr>\n",
       "      <th>x9</th>\n",
       "      <td>0.995958</td>\n",
       "      <td>0.998387</td>\n",
       "      <td>0.999275</td>\n",
       "      <td>0.999660</td>\n",
       "      <td>0.999844</td>\n",
       "      <td>0.999934</td>\n",
       "      <td>0.999977</td>\n",
       "      <td>0.999995</td>\n",
       "      <td>1.000000</td>\n",
       "      <td>0.999997</td>\n",
       "    </tr>\n",
       "    <tr>\n",
       "      <th>x10</th>\n",
       "      <td>0.995729</td>\n",
       "      <td>0.998241</td>\n",
       "      <td>0.999176</td>\n",
       "      <td>0.999592</td>\n",
       "      <td>0.999796</td>\n",
       "      <td>0.999902</td>\n",
       "      <td>0.999957</td>\n",
       "      <td>0.999985</td>\n",
       "      <td>0.999997</td>\n",
       "      <td>1.000000</td>\n",
       "    </tr>\n",
       "  </tbody>\n",
       "</table>\n",
       "</div>"
      ],
      "text/plain": [
       "           x1        x2        x3        x4        x5        x6        x7  \\\n",
       "x1   1.000000  0.999451  0.998656  0.997960  0.997390  0.996926  0.996544   \n",
       "x2   0.999451  1.000000  0.999825  0.999527  0.999234  0.998974  0.998749   \n",
       "x3   0.998656  0.999825  1.000000  0.999928  0.999792  0.999647  0.999510   \n",
       "x4   0.997960  0.999527  0.999928  1.000000  0.999965  0.999894  0.999814   \n",
       "x5   0.997390  0.999234  0.999792  0.999965  1.000000  0.999981  0.999941   \n",
       "x6   0.996926  0.998974  0.999647  0.999894  0.999981  1.000000  0.999989   \n",
       "x7   0.996544  0.998749  0.999510  0.999814  0.999941  0.999989  1.000000   \n",
       "x8   0.996226  0.998554  0.999386  0.999735  0.999893  0.999964  0.999993   \n",
       "x9   0.995958  0.998387  0.999275  0.999660  0.999844  0.999934  0.999977   \n",
       "x10  0.995729  0.998241  0.999176  0.999592  0.999796  0.999902  0.999957   \n",
       "\n",
       "           x8        x9       x10  \n",
       "x1   0.996226  0.995958  0.995729  \n",
       "x2   0.998554  0.998387  0.998241  \n",
       "x3   0.999386  0.999275  0.999176  \n",
       "x4   0.999735  0.999660  0.999592  \n",
       "x5   0.999893  0.999844  0.999796  \n",
       "x6   0.999964  0.999934  0.999902  \n",
       "x7   0.999993  0.999977  0.999957  \n",
       "x8   1.000000  0.999995  0.999985  \n",
       "x9   0.999995  1.000000  0.999997  \n",
       "x10  0.999985  0.999997  1.000000  "
      ]
     },
     "execution_count": 85,
     "metadata": {},
     "output_type": "execute_result"
    }
   ],
   "source": [
    "dataset_creted.corr()"
   ]
  },
  {
   "cell_type": "markdown",
   "id": "3b5f9a49-cee6-4537-b82f-d8148a45c0c2",
   "metadata": {},
   "source": [
    "### Problem 3. Figure out the modelling function (1 point)\n",
    "The modelling function for linear regression is of the form\n",
    "$$ \\tilde{y} = \\sum_{i=1}^{m}a_i x_i + b $$\n",
    "\n",
    "If you want to be clever, you can find a way to represent $b$ in the same way as the other coefficients.\n",
    "\n",
    "Write a Python function which accepts coefficients and data, and ensure (test) it works correctly."
   ]
  },
  {
   "cell_type": "code",
   "execution_count": 86,
   "id": "0800a26d-3204-49ad-8a83-37edf0f4128f",
   "metadata": {},
   "outputs": [],
   "source": [
    "def model_prediction(x,a,b):\n",
    "    prediction = (a * np.array(x).T + b) \n",
    "    return prediction"
   ]
  },
  {
   "cell_type": "code",
   "execution_count": 95,
   "id": "9737333e-76ed-4ec5-8fbe-c27961e0e395",
   "metadata": {},
   "outputs": [
    {
     "data": {
      "text/plain": [
       "array([[ 12.        ,   8.44444444,   4.88888889, ..., -12.88888889,\n",
       "        -16.44444444, -20.        ],\n",
       "       [ 11.94974874,   8.48352875,   5.01730877, ..., -12.31379118,\n",
       "        -15.78001117, -19.24623116],\n",
       "       [ 11.89949749,   8.52261307,   5.14572864, ..., -11.73869347,\n",
       "        -15.11557789, -18.49246231],\n",
       "       ...,\n",
       "       [  2.10050251,  16.1440536 ,  30.18760469, ..., 100.40536013,\n",
       "        114.44891122, 128.49246231],\n",
       "       [  2.05025126,  16.18313791,  30.31602457, ..., 100.98045784,\n",
       "        115.1133445 , 129.24623116],\n",
       "       [  2.        ,  16.22222222,  30.44444444, ..., 101.55555556,\n",
       "        115.77777778, 130.        ]])"
      ]
     },
     "execution_count": 95,
     "metadata": {},
     "output_type": "execute_result"
    }
   ],
   "source": [
    "a = np.linspace(-1,15, len(features))\n",
    "b = 10\n",
    "predictions = model_prediction(features,a,b )\n",
    "predictions"
   ]
  },
  {
   "cell_type": "code",
   "execution_count": 99,
   "id": "5da85af9-9241-43d3-bb35-7612a91c0f01",
   "metadata": {},
   "outputs": [
    {
     "data": {
      "image/png": "[encoded data removed]",
      "text/plain": [
       "<Figure size 640x480 with 1 Axes>"
      ]
     },
     "metadata": {},
     "output_type": "display_data"
    }
   ],
   "source": [
    "plt.plot(np.array(features), predictions.T)\n",
    "plt.scatter(np.array(features), dataset_creted,s = 0.2 ,color = \"red\")\n",
    "plt.show()"
   ]
  },
  {
   "cell_type": "markdown",
   "id": "2ea9d650-0994-4ae8-bba9-3b8fdecbdd3e",
   "metadata": {},
   "source": [
    "### Problem 4. Write the cost function and compute its gradients (1 point)\n",
    "Use MSE as the cost function $J$. Find a way to compute, calculate, or derive its gradients w.r.t. the model parameters $a_1, ..., a_m, b$\n",
    "\n",
    "Note that computing the cost function value and its gradients are two separate operations. Quick reminder: use vectorization to compute all gradients (maybe with the exception of $\\frac{\\partial J}{\\partial b}$) at the same time."
   ]
  },
  {
   "cell_type": "code",
   "execution_count": null,
   "id": "99388ae1-1b23-4233-acf9-daf589bba07a",
   "metadata": {},
   "outputs": [],
   "source": [
    "def compute_cost(x,y,a,b):\n",
    "    predictions = a * x + b\n",
    "    distances = (y - predictions)**2\n",
    "    total_distances = np.mean(distances)\n",
    "    return total_distances"
   ]
  },
  {
   "cell_type": "markdown",
   "id": "1bad786e-4299-4900-ae86-16cbd2235a6e",
   "metadata": {},
   "source": [
    "### Problem 5. Perform gradient descent (1 point)\n",
    "Perform weight updates iteratively. Find a useful criterion for stopping. For most cases, just using a fixed (large) number of steps is enough.\n",
    "\n",
    "You'll need to set a starting point (think about which one should be good, and how it matters); and a learning rate."
   ]
  },
  {
   "cell_type": "code",
   "execution_count": null,
   "id": "effc3983-79b1-45a9-a31e-a893a6e45ffe",
   "metadata": {},
   "outputs": [],
   "source": [
    "def compute_grad(a , b, x, y):\n",
    "    predictions = a * x + b\n",
    "    a_gradient = -2/len(x) * np.sum(x * (y - predictions)) \n",
    "    b_gradient = -2/len(y) * np.sum(y - predictions)\n",
    "    return np.array([a_gradient, b_gradient])"
   ]
  },
  {
   "cell_type": "code",
   "execution_count": null,
   "id": "dd4bc3bd-6b2c-4f40-9e94-40557a2325d0",
   "metadata": {},
   "outputs": [],
   "source": []
  },
  {
   "cell_type": "markdown",
   "id": "d18a168f-de4c-4035-88db-7350c2b91745",
   "metadata": {},
   "source": [
    "### Problem 6. Do other cost functions work? (2 points)\n",
    "Repeat the process in problems 4 and 5 with MAE, and then again - with the [Huber loss](https://en.wikipedia.org/wiki/Huber_loss). Both of them are less sensitive to outliers / anomalies than MSE); with the Huber loss function being specifically made for datasets with outliers.\n",
    "\n",
    "Explain your findings. Is there a cost function that works much better? How about speed of training (measured in wall time)?"
   ]
  },
  {
   "cell_type": "code",
   "execution_count": null,
   "id": "b3f0eb74-7b3d-4aa8-9749-dcb55e918a22",
   "metadata": {},
   "outputs": [],
   "source": []
  },
  {
   "cell_type": "markdown",
   "id": "1d4176d1-6cad-4830-824c-1d27e50efe89",
   "metadata": {},
   "source": [
    "### Problem 7. Experiment with the learning rate (1 point)\n",
    "Use your favorite cost function. Run several \"experiments\" with different learning rates. Try really small, and really large values. Observe and document your findings."
   ]
  },
  {
   "cell_type": "code",
   "execution_count": null,
   "id": "71f04525-95f3-427d-8763-27af6839cb93",
   "metadata": {},
   "outputs": [],
   "source": []
  },
  {
   "cell_type": "markdown",
   "id": "91385302-2fc1-48a4-a453-cce7f038e9c2",
   "metadata": {},
   "source": [
    "### Problem 8. Generate some data for classification (1 point)\n",
    "You'll need to create two clusters of points (one cluster for each class). I recomment using `scikit-learn`'s `make_blobs()` ([info](https://scikit-learn.org/stable/modules/generated/sklearn.datasets.make_blobs.html)). Use as many features as you used in problem 1."
   ]
  },
  {
   "cell_type": "code",
   "execution_count": null,
   "id": "b948009d-6af6-468c-ac6e-bacd4f75498c",
   "metadata": {},
   "outputs": [],
   "source": []
  },
  {
   "cell_type": "markdown",
   "id": "c6246890-0808-40e1-b892-fa1d11fd088c",
   "metadata": {},
   "source": [
    "### Problem 9. Perform logistic regression (1 point)\n",
    "Reuse the code you wrote in problems 3-7 as much as possible. If you wrote vectorized functions with variable parameters - you should find this easy. If not - it's not too late to go back and refactor your code.\n",
    "\n",
    "The modelling function for logistic regression is\n",
    "$$ \\tilde{y} = \\frac{1}{1+\\exp{(-\\sum_{i=1}^{m}a_i x_i + b)}}$$. Find a way to represent it using as much of your previous code as you can.\n",
    "\n",
    "The most commonly used loss function is the [cross-entropy](https://en.wikipedia.org/wiki/Cross-entropy).\n",
    "\n",
    "Experiment with different learning rates, basically repeating what you did in problem 7."
   ]
  },
  {
   "cell_type": "code",
   "execution_count": null,
   "id": "107e100b-1627-4300-8d2e-98e8b438e046",
   "metadata": {},
   "outputs": [],
   "source": []
  },
  {
   "cell_type": "markdown",
   "id": "411df95f-5f16-4c37-8649-2c495eb96974",
   "metadata": {},
   "source": [
    "### * Problem 10. Continue experimenting and delving deep into ML\n",
    "You just saw how modelling works and how to implement some code. Some of the things you can think about (and I recommend you pause and ponder on some of them are):\n",
    "* Code: OOP can be your friend sometimes. `scikit-learn`'s models have `fit()`, `predict()` and `score()` methods.\n",
    "* Data: What approaches work on non-generated data?\n",
    "* Evaluation: How well do different models (and their \"settings\" - hyperparameters) actually work in practice? How do we evaluate a model in a meaningful way?\n",
    "* Optimization - maths: Look at what `optimizers` (or solvers) are used in `scikit-learn` and why. Many \"tricks\" revolve around making the algorithm converge (finish) in fewer iterations, or making it more numerically stable.\n",
    "* Optimization - code: Are there ways to make the code run fastr?"
   ]
  },
  {
   "cell_type": "code",
   "execution_count": null,
   "id": "08101fb6-d53f-4dc9-8f37-d07478c9e220",
   "metadata": {},
   "outputs": [],
   "source": []
  }
 ],
 "metadata": {
  "kernelspec": {
   "display_name": "Python 3 (ipykernel)",
   "language": "python",
   "name": "python3"
  },
  "language_info": {
   "codemirror_mode": {
    "name": "ipython",
    "version": 3
   },
   "file_extension": ".py",
   "mimetype": "text/x-python",
   "name": "python",
   "nbconvert_exporter": "python",
   "pygments_lexer": "ipython3",
   "version": "3.11.7"
  }
 },
 "nbformat": 4,
 "nbformat_minor": 5
}
