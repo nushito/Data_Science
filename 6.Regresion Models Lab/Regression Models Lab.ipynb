{
 "cells": [
  {
   "cell_type": "code",
   "execution_count": 1,
   "id": "b1a21845-5edc-410a-ab41-5196319ddec6",
   "metadata": {},
   "outputs": [],
   "source": [
    "%matplotlib inline"
   ]
  },
  {
   "cell_type": "code",
   "execution_count": 2,
   "id": "19a7b5fb-f6b1-4a4c-9083-2b16bce50e7e",
   "metadata": {},
   "outputs": [],
   "source": [
    "import pandas as pd\n",
    "import numpy as np\n",
    "import matplotlib.pyplot as plt"
   ]
  },
  {
   "cell_type": "markdown",
   "id": "d3786fdb-7af6-4ce2-b730-90c60a5d896f",
   "metadata": {},
   "source": [
    "# Regression Models Lab\n",
    "## Linear and logistic regression: theory and practice"
   ]
  },
  {
   "cell_type": "markdown",
   "id": "56d6ff4b-e18a-4580-8c7c-54f4c7ef2dc9",
   "metadata": {},
   "source": [
    "In this lab you'll revisit and expand on your knowledge of modelling in general, as well as the fundamentals of linear and logistic regression. As a reminder, _linear regression_ is a regression model (regressor), and _logistic regression_ is a classification model (classifier).\n",
    "\n",
    "This time, you'll use generated data, in order to separate some of the complexity of handling various datasets from inspecting and evaluating models.\n",
    "\n",
    "**Use vectorization as much as possible!** You should be able to complete the lab using for-loops only to track the training steps."
   ]
  },
  {
   "cell_type": "markdown",
   "id": "2b8a9603-c803-4728-a69d-b6acfe2bad8a",
   "metadata": {},
   "source": [
    "### Problem 1. Generate some data for multiple linear regression (1 point)\n",
    "As an expansion to the lecture, you'll create a dataset and a model.\n",
    "\n",
    "Create a dataset of some (e.g., 50-500) observations of several (e.g., 5-20) independent features. You can use random generators for them; think about what distributions you'd like to use. Let's call them $x_1, x_2, ..., x_m$. The data matrix $X$ you should get should be of size $n \\times m$. It's best if all features have different ranges.\n",
    "\n",
    "Create the dependent variable by assigning coefficients $\\bar{a_1}, \\bar{a_2}, ..., \\bar{a_m}, \\bar{b}$ and calculating $y$ as a linear combination of the input features. Add some random noise to the functional values. I've used bars over coefficients to avoid confusion with the model parameters later.\n",
    "\n",
    "Save the dataset ($X$ and $y$), and \"forget\" that the coefficients have ever existed. \"All\" you have is the file and the implicit assumption that there is a linear relationship between $X$ and $y$."
   ]
  },
  {
   "cell_type": "code",
   "execution_count": 3,
   "id": "f82d3ed2-0be7-4b9a-b893-6b955e6e8191",
   "metadata": {},
   "outputs": [],
   "source": [
    "features = []\n",
    "for i in range(10):\n",
    "    x = np.linspace(-2,8,200)\n",
    "    features.append(x)"
   ]
  },
  {
   "cell_type": "code",
   "execution_count": 4,
   "id": "0756b65a-e044-490a-8f8c-91d34484dec3",
   "metadata": {},
   "outputs": [
    {
     "data": {
      "text/plain": [
       "10"
      ]
     },
     "execution_count": 4,
     "metadata": {},
     "output_type": "execute_result"
    }
   ],
   "source": [
    "len(features)"
   ]
  },
  {
   "cell_type": "code",
   "execution_count": 5,
   "id": "be26119b-0cae-4068-9564-0b934c176eb3",
   "metadata": {},
   "outputs": [
    {
     "data": {
      "text/plain": [
       "array([[  2.43229451,   0.87673895,  -0.6788166 , ...,  -8.45659438,\n",
       "        -10.01214994, -11.56770549],\n",
       "       [  2.1916464 ,   0.67517516,  -0.84129609, ...,  -8.42365231,\n",
       "         -9.94012356, -11.4565948 ],\n",
       "       [  2.21891484,   0.7415279 ,  -0.73585903, ...,  -8.1227937 ,\n",
       "         -9.60018064, -11.07756757],\n",
       "       ...,\n",
       "       [ 22.09843061,  28.24248421,  34.38653781, ...,  65.10680582,\n",
       "         71.25085942,  77.39491302],\n",
       "       [ 22.38531347,  28.56845139,  34.7515893 , ...,  65.66727886,\n",
       "         71.85041677,  78.03355468],\n",
       "       [ 21.24461336,  27.46683559,  33.68905781, ...,  64.80016892,\n",
       "         71.02239114,  77.24461336]])"
      ]
     },
     "execution_count": 5,
     "metadata": {},
     "output_type": "execute_result"
    }
   ],
   "source": [
    "coeff_a = np.linspace(2 , 9, len(features))\n",
    "coeff_b = 6\n",
    "y = [(coeff_a[a] * features[a] + coeff_b) for a in np.arange(0, len(coeff_a))]\n",
    "y_noise = np.random.normal(loc = 0, scale = 0.7, size = len(features[0]))\n",
    "y += y_noise\n",
    "y.T"
   ]
  },
  {
   "cell_type": "code",
   "execution_count": 6,
   "id": "4ac04ed6-12b1-454a-bacb-31322b13c9e9",
   "metadata": {},
   "outputs": [],
   "source": [
    "columns_x = [(\"x\"+str(i)) for i in range(1,len(features)+1)]\n",
    "dataset_creted = pd.DataFrame(data = y.T, columns = [columns_x])\n"
   ]
  },
  {
   "cell_type": "markdown",
   "id": "c4bb4164-eaa3-4b76-ae3f-36da95416b7b",
   "metadata": {},
   "source": [
    "### Problem 2. Check your assumption (1 point)\n",
    "Read the dataset you just saved (this is just to simulate starting a new project). It's a good idea to test and verify our assumptions. Find a way to check whether there really is a linear relationship between the features and output."
   ]
  },
  {
   "cell_type": "code",
   "execution_count": 7,
   "id": "d13c8452-5eb1-4719-88da-372331cfce82",
   "metadata": {},
   "outputs": [
    {
     "data": {
      "text/html": [
       "<div>\n",
       "<style scoped>\n",
       "    .dataframe tbody tr th:only-of-type {\n",
       "        vertical-align: middle;\n",
       "    }\n",
       "\n",
       "    .dataframe tbody tr th {\n",
       "        vertical-align: top;\n",
       "    }\n",
       "\n",
       "    .dataframe thead tr th {\n",
       "        text-align: left;\n",
       "    }\n",
       "</style>\n",
       "<table border=\"1\" class=\"dataframe\">\n",
       "  <thead>\n",
       "    <tr>\n",
       "      <th></th>\n",
       "      <th>x1</th>\n",
       "      <th>x2</th>\n",
       "      <th>x3</th>\n",
       "      <th>x4</th>\n",
       "      <th>x5</th>\n",
       "      <th>x6</th>\n",
       "      <th>x7</th>\n",
       "      <th>x8</th>\n",
       "      <th>x9</th>\n",
       "      <th>x10</th>\n",
       "    </tr>\n",
       "  </thead>\n",
       "  <tbody>\n",
       "    <tr>\n",
       "      <th>0</th>\n",
       "      <td>2.432295</td>\n",
       "      <td>0.876739</td>\n",
       "      <td>-0.678817</td>\n",
       "      <td>-2.234372</td>\n",
       "      <td>-3.789928</td>\n",
       "      <td>-5.345483</td>\n",
       "      <td>-6.901039</td>\n",
       "      <td>-8.456594</td>\n",
       "      <td>-10.012150</td>\n",
       "      <td>-11.567705</td>\n",
       "    </tr>\n",
       "    <tr>\n",
       "      <th>1</th>\n",
       "      <td>2.191646</td>\n",
       "      <td>0.675175</td>\n",
       "      <td>-0.841296</td>\n",
       "      <td>-2.357767</td>\n",
       "      <td>-3.874239</td>\n",
       "      <td>-5.390710</td>\n",
       "      <td>-6.907181</td>\n",
       "      <td>-8.423652</td>\n",
       "      <td>-9.940124</td>\n",
       "      <td>-11.456595</td>\n",
       "    </tr>\n",
       "    <tr>\n",
       "      <th>2</th>\n",
       "      <td>2.218915</td>\n",
       "      <td>0.741528</td>\n",
       "      <td>-0.735859</td>\n",
       "      <td>-2.213246</td>\n",
       "      <td>-3.690633</td>\n",
       "      <td>-5.168020</td>\n",
       "      <td>-6.645407</td>\n",
       "      <td>-8.122794</td>\n",
       "      <td>-9.600181</td>\n",
       "      <td>-11.077568</td>\n",
       "    </tr>\n",
       "    <tr>\n",
       "      <th>3</th>\n",
       "      <td>2.423683</td>\n",
       "      <td>0.985381</td>\n",
       "      <td>-0.452922</td>\n",
       "      <td>-1.891225</td>\n",
       "      <td>-3.329527</td>\n",
       "      <td>-4.767830</td>\n",
       "      <td>-6.206133</td>\n",
       "      <td>-7.644435</td>\n",
       "      <td>-9.082738</td>\n",
       "      <td>-10.521040</td>\n",
       "    </tr>\n",
       "    <tr>\n",
       "      <th>4</th>\n",
       "      <td>1.620221</td>\n",
       "      <td>0.221003</td>\n",
       "      <td>-1.178216</td>\n",
       "      <td>-2.577434</td>\n",
       "      <td>-3.976652</td>\n",
       "      <td>-5.375870</td>\n",
       "      <td>-6.775089</td>\n",
       "      <td>-8.174307</td>\n",
       "      <td>-9.573525</td>\n",
       "      <td>-10.972744</td>\n",
       "    </tr>\n",
       "    <tr>\n",
       "      <th>...</th>\n",
       "      <td>...</td>\n",
       "      <td>...</td>\n",
       "      <td>...</td>\n",
       "      <td>...</td>\n",
       "      <td>...</td>\n",
       "      <td>...</td>\n",
       "      <td>...</td>\n",
       "      <td>...</td>\n",
       "      <td>...</td>\n",
       "      <td>...</td>\n",
       "    </tr>\n",
       "    <tr>\n",
       "      <th>195</th>\n",
       "      <td>21.296485</td>\n",
       "      <td>27.362370</td>\n",
       "      <td>33.428255</td>\n",
       "      <td>39.494140</td>\n",
       "      <td>45.560024</td>\n",
       "      <td>51.625909</td>\n",
       "      <td>57.691794</td>\n",
       "      <td>63.757679</td>\n",
       "      <td>69.823564</td>\n",
       "      <td>75.889449</td>\n",
       "    </tr>\n",
       "    <tr>\n",
       "      <th>196</th>\n",
       "      <td>20.757489</td>\n",
       "      <td>26.862458</td>\n",
       "      <td>32.967427</td>\n",
       "      <td>39.072397</td>\n",
       "      <td>45.177366</td>\n",
       "      <td>51.282335</td>\n",
       "      <td>57.387304</td>\n",
       "      <td>63.492274</td>\n",
       "      <td>69.597243</td>\n",
       "      <td>75.702212</td>\n",
       "    </tr>\n",
       "    <tr>\n",
       "      <th>197</th>\n",
       "      <td>22.098431</td>\n",
       "      <td>28.242484</td>\n",
       "      <td>34.386538</td>\n",
       "      <td>40.530591</td>\n",
       "      <td>46.674645</td>\n",
       "      <td>52.818699</td>\n",
       "      <td>58.962752</td>\n",
       "      <td>65.106806</td>\n",
       "      <td>71.250859</td>\n",
       "      <td>77.394913</td>\n",
       "    </tr>\n",
       "    <tr>\n",
       "      <th>198</th>\n",
       "      <td>22.385313</td>\n",
       "      <td>28.568451</td>\n",
       "      <td>34.751589</td>\n",
       "      <td>40.934727</td>\n",
       "      <td>47.117865</td>\n",
       "      <td>53.301003</td>\n",
       "      <td>59.484141</td>\n",
       "      <td>65.667279</td>\n",
       "      <td>71.850417</td>\n",
       "      <td>78.033555</td>\n",
       "    </tr>\n",
       "    <tr>\n",
       "      <th>199</th>\n",
       "      <td>21.244613</td>\n",
       "      <td>27.466836</td>\n",
       "      <td>33.689058</td>\n",
       "      <td>39.911280</td>\n",
       "      <td>46.133502</td>\n",
       "      <td>52.355724</td>\n",
       "      <td>58.577947</td>\n",
       "      <td>64.800169</td>\n",
       "      <td>71.022391</td>\n",
       "      <td>77.244613</td>\n",
       "    </tr>\n",
       "  </tbody>\n",
       "</table>\n",
       "<p>200 rows × 10 columns</p>\n",
       "</div>"
      ],
      "text/plain": [
       "            x1         x2         x3         x4         x5         x6  \\\n",
       "0     2.432295   0.876739  -0.678817  -2.234372  -3.789928  -5.345483   \n",
       "1     2.191646   0.675175  -0.841296  -2.357767  -3.874239  -5.390710   \n",
       "2     2.218915   0.741528  -0.735859  -2.213246  -3.690633  -5.168020   \n",
       "3     2.423683   0.985381  -0.452922  -1.891225  -3.329527  -4.767830   \n",
       "4     1.620221   0.221003  -1.178216  -2.577434  -3.976652  -5.375870   \n",
       "..         ...        ...        ...        ...        ...        ...   \n",
       "195  21.296485  27.362370  33.428255  39.494140  45.560024  51.625909   \n",
       "196  20.757489  26.862458  32.967427  39.072397  45.177366  51.282335   \n",
       "197  22.098431  28.242484  34.386538  40.530591  46.674645  52.818699   \n",
       "198  22.385313  28.568451  34.751589  40.934727  47.117865  53.301003   \n",
       "199  21.244613  27.466836  33.689058  39.911280  46.133502  52.355724   \n",
       "\n",
       "            x7         x8         x9        x10  \n",
       "0    -6.901039  -8.456594 -10.012150 -11.567705  \n",
       "1    -6.907181  -8.423652  -9.940124 -11.456595  \n",
       "2    -6.645407  -8.122794  -9.600181 -11.077568  \n",
       "3    -6.206133  -7.644435  -9.082738 -10.521040  \n",
       "4    -6.775089  -8.174307  -9.573525 -10.972744  \n",
       "..         ...        ...        ...        ...  \n",
       "195  57.691794  63.757679  69.823564  75.889449  \n",
       "196  57.387304  63.492274  69.597243  75.702212  \n",
       "197  58.962752  65.106806  71.250859  77.394913  \n",
       "198  59.484141  65.667279  71.850417  78.033555  \n",
       "199  58.577947  64.800169  71.022391  77.244613  \n",
       "\n",
       "[200 rows x 10 columns]"
      ]
     },
     "execution_count": 7,
     "metadata": {},
     "output_type": "execute_result"
    }
   ],
   "source": [
    "dataset_creted"
   ]
  },
  {
   "cell_type": "code",
   "execution_count": 8,
   "id": "8be6e323-44c3-4240-9395-d4c4ae1308c6",
   "metadata": {},
   "outputs": [
    {
     "data": {
      "text/html": [
       "<div>\n",
       "<style scoped>\n",
       "    .dataframe tbody tr th:only-of-type {\n",
       "        vertical-align: middle;\n",
       "    }\n",
       "\n",
       "    .dataframe tbody tr th {\n",
       "        vertical-align: top;\n",
       "    }\n",
       "\n",
       "    .dataframe thead tr th {\n",
       "        text-align: left;\n",
       "    }\n",
       "</style>\n",
       "<table border=\"1\" class=\"dataframe\">\n",
       "  <thead>\n",
       "    <tr>\n",
       "      <th></th>\n",
       "      <th>x1</th>\n",
       "      <th>x2</th>\n",
       "      <th>x3</th>\n",
       "      <th>x4</th>\n",
       "      <th>x5</th>\n",
       "      <th>x6</th>\n",
       "      <th>x7</th>\n",
       "      <th>x8</th>\n",
       "      <th>x9</th>\n",
       "      <th>x10</th>\n",
       "    </tr>\n",
       "  </thead>\n",
       "  <tbody>\n",
       "    <tr>\n",
       "      <th>x1</th>\n",
       "      <td>1.000000</td>\n",
       "      <td>0.999449</td>\n",
       "      <td>0.998648</td>\n",
       "      <td>0.997946</td>\n",
       "      <td>0.997370</td>\n",
       "      <td>0.996900</td>\n",
       "      <td>0.996513</td>\n",
       "      <td>0.996191</td>\n",
       "      <td>0.995919</td>\n",
       "      <td>0.995687</td>\n",
       "    </tr>\n",
       "    <tr>\n",
       "      <th>x2</th>\n",
       "      <td>0.999449</td>\n",
       "      <td>1.000000</td>\n",
       "      <td>0.999823</td>\n",
       "      <td>0.999522</td>\n",
       "      <td>0.999226</td>\n",
       "      <td>0.998962</td>\n",
       "      <td>0.998733</td>\n",
       "      <td>0.998536</td>\n",
       "      <td>0.998366</td>\n",
       "      <td>0.998218</td>\n",
       "    </tr>\n",
       "    <tr>\n",
       "      <th>x3</th>\n",
       "      <td>0.998648</td>\n",
       "      <td>0.999823</td>\n",
       "      <td>1.000000</td>\n",
       "      <td>0.999927</td>\n",
       "      <td>0.999789</td>\n",
       "      <td>0.999642</td>\n",
       "      <td>0.999503</td>\n",
       "      <td>0.999377</td>\n",
       "      <td>0.999264</td>\n",
       "      <td>0.999164</td>\n",
       "    </tr>\n",
       "    <tr>\n",
       "      <th>x4</th>\n",
       "      <td>0.997946</td>\n",
       "      <td>0.999522</td>\n",
       "      <td>0.999927</td>\n",
       "      <td>1.000000</td>\n",
       "      <td>0.999964</td>\n",
       "      <td>0.999893</td>\n",
       "      <td>0.999811</td>\n",
       "      <td>0.999731</td>\n",
       "      <td>0.999655</td>\n",
       "      <td>0.999585</td>\n",
       "    </tr>\n",
       "    <tr>\n",
       "      <th>x5</th>\n",
       "      <td>0.997370</td>\n",
       "      <td>0.999226</td>\n",
       "      <td>0.999789</td>\n",
       "      <td>0.999964</td>\n",
       "      <td>1.000000</td>\n",
       "      <td>0.999981</td>\n",
       "      <td>0.999940</td>\n",
       "      <td>0.999891</td>\n",
       "      <td>0.999841</td>\n",
       "      <td>0.999793</td>\n",
       "    </tr>\n",
       "    <tr>\n",
       "      <th>x6</th>\n",
       "      <td>0.996900</td>\n",
       "      <td>0.998962</td>\n",
       "      <td>0.999642</td>\n",
       "      <td>0.999893</td>\n",
       "      <td>0.999981</td>\n",
       "      <td>1.000000</td>\n",
       "      <td>0.999989</td>\n",
       "      <td>0.999963</td>\n",
       "      <td>0.999933</td>\n",
       "      <td>0.999900</td>\n",
       "    </tr>\n",
       "    <tr>\n",
       "      <th>x7</th>\n",
       "      <td>0.996513</td>\n",
       "      <td>0.998733</td>\n",
       "      <td>0.999503</td>\n",
       "      <td>0.999811</td>\n",
       "      <td>0.999940</td>\n",
       "      <td>0.999989</td>\n",
       "      <td>1.000000</td>\n",
       "      <td>0.999993</td>\n",
       "      <td>0.999977</td>\n",
       "      <td>0.999956</td>\n",
       "    </tr>\n",
       "    <tr>\n",
       "      <th>x8</th>\n",
       "      <td>0.996191</td>\n",
       "      <td>0.998536</td>\n",
       "      <td>0.999377</td>\n",
       "      <td>0.999731</td>\n",
       "      <td>0.999891</td>\n",
       "      <td>0.999963</td>\n",
       "      <td>0.999993</td>\n",
       "      <td>1.000000</td>\n",
       "      <td>0.999995</td>\n",
       "      <td>0.999984</td>\n",
       "    </tr>\n",
       "    <tr>\n",
       "      <th>x9</th>\n",
       "      <td>0.995919</td>\n",
       "      <td>0.998366</td>\n",
       "      <td>0.999264</td>\n",
       "      <td>0.999655</td>\n",
       "      <td>0.999841</td>\n",
       "      <td>0.999933</td>\n",
       "      <td>0.999977</td>\n",
       "      <td>0.999995</td>\n",
       "      <td>1.000000</td>\n",
       "      <td>0.999997</td>\n",
       "    </tr>\n",
       "    <tr>\n",
       "      <th>x10</th>\n",
       "      <td>0.995687</td>\n",
       "      <td>0.998218</td>\n",
       "      <td>0.999164</td>\n",
       "      <td>0.999585</td>\n",
       "      <td>0.999793</td>\n",
       "      <td>0.999900</td>\n",
       "      <td>0.999956</td>\n",
       "      <td>0.999984</td>\n",
       "      <td>0.999997</td>\n",
       "      <td>1.000000</td>\n",
       "    </tr>\n",
       "  </tbody>\n",
       "</table>\n",
       "</div>"
      ],
      "text/plain": [
       "           x1        x2        x3        x4        x5        x6        x7  \\\n",
       "x1   1.000000  0.999449  0.998648  0.997946  0.997370  0.996900  0.996513   \n",
       "x2   0.999449  1.000000  0.999823  0.999522  0.999226  0.998962  0.998733   \n",
       "x3   0.998648  0.999823  1.000000  0.999927  0.999789  0.999642  0.999503   \n",
       "x4   0.997946  0.999522  0.999927  1.000000  0.999964  0.999893  0.999811   \n",
       "x5   0.997370  0.999226  0.999789  0.999964  1.000000  0.999981  0.999940   \n",
       "x6   0.996900  0.998962  0.999642  0.999893  0.999981  1.000000  0.999989   \n",
       "x7   0.996513  0.998733  0.999503  0.999811  0.999940  0.999989  1.000000   \n",
       "x8   0.996191  0.998536  0.999377  0.999731  0.999891  0.999963  0.999993   \n",
       "x9   0.995919  0.998366  0.999264  0.999655  0.999841  0.999933  0.999977   \n",
       "x10  0.995687  0.998218  0.999164  0.999585  0.999793  0.999900  0.999956   \n",
       "\n",
       "           x8        x9       x10  \n",
       "x1   0.996191  0.995919  0.995687  \n",
       "x2   0.998536  0.998366  0.998218  \n",
       "x3   0.999377  0.999264  0.999164  \n",
       "x4   0.999731  0.999655  0.999585  \n",
       "x5   0.999891  0.999841  0.999793  \n",
       "x6   0.999963  0.999933  0.999900  \n",
       "x7   0.999993  0.999977  0.999956  \n",
       "x8   1.000000  0.999995  0.999984  \n",
       "x9   0.999995  1.000000  0.999997  \n",
       "x10  0.999984  0.999997  1.000000  "
      ]
     },
     "execution_count": 8,
     "metadata": {},
     "output_type": "execute_result"
    }
   ],
   "source": [
    "dataset_creted.corr()"
   ]
  },
  {
   "cell_type": "markdown",
   "id": "3b5f9a49-cee6-4537-b82f-d8148a45c0c2",
   "metadata": {},
   "source": [
    "### Problem 3. Figure out the modelling function (1 point)\n",
    "The modelling function for linear regression is of the form\n",
    "$$ \\tilde{y} = \\sum_{i=1}^{m}a_i x_i + b $$\n",
    "\n",
    "If you want to be clever, you can find a way to represent $b$ in the same way as the other coefficients.\n",
    "\n",
    "Write a Python function which accepts coefficients and data, and ensure (test) it works correctly."
   ]
  },
  {
   "cell_type": "code",
   "execution_count": 9,
   "id": "0800a26d-3204-49ad-8a83-37edf0f4128f",
   "metadata": {},
   "outputs": [],
   "source": [
    "def model_prediction(x,a,b):\n",
    "    prediction = (a * np.array(x).T + b) \n",
    "    return prediction"
   ]
  },
  {
   "cell_type": "code",
   "execution_count": 10,
   "id": "9737333e-76ed-4ec5-8fbe-c27961e0e395",
   "metadata": {},
   "outputs": [
    {
     "data": {
      "text/plain": [
       "array([[ 12.        ,   8.44444444,   4.88888889, ..., -12.88888889,\n",
       "        -16.44444444, -20.        ],\n",
       "       [ 11.94974874,   8.48352875,   5.01730877, ..., -12.31379118,\n",
       "        -15.78001117, -19.24623116],\n",
       "       [ 11.89949749,   8.52261307,   5.14572864, ..., -11.73869347,\n",
       "        -15.11557789, -18.49246231],\n",
       "       ...,\n",
       "       [  2.10050251,  16.1440536 ,  30.18760469, ..., 100.40536013,\n",
       "        114.44891122, 128.49246231],\n",
       "       [  2.05025126,  16.18313791,  30.31602457, ..., 100.98045784,\n",
       "        115.1133445 , 129.24623116],\n",
       "       [  2.        ,  16.22222222,  30.44444444, ..., 101.55555556,\n",
       "        115.77777778, 130.        ]])"
      ]
     },
     "execution_count": 10,
     "metadata": {},
     "output_type": "execute_result"
    }
   ],
   "source": [
    "a = np.linspace(-1,15, len(features))\n",
    "b = 10\n",
    "predictions = model_prediction(features,a,b )\n",
    "predictions"
   ]
  },
  {
   "cell_type": "code",
   "execution_count": 11,
   "id": "5da85af9-9241-43d3-bb35-7612a91c0f01",
   "metadata": {},
   "outputs": [
    {
     "data": {
      "image/png": "[encoded data removed]",
      "text/plain": [
       "<Figure size 640x480 with 1 Axes>"
      ]
     },
     "metadata": {},
     "output_type": "display_data"
    }
   ],
   "source": [
    "plt.plot(np.array(features), predictions.T)\n",
    "plt.scatter(np.array(features), dataset_creted,s = 0.2 ,color = \"red\")\n",
    "plt.show()"
   ]
  },
  {
   "cell_type": "code",
   "execution_count": null,
   "id": "3e6f3b3c-de09-4757-afd2-4f9f72e043a6",
   "metadata": {},
   "outputs": [],
   "source": [
    "def plot_predictions()"
   ]
  },
  {
   "cell_type": "markdown",
   "id": "2ea9d650-0994-4ae8-bba9-3b8fdecbdd3e",
   "metadata": {},
   "source": [
    "### Problem 4. Write the cost function and compute its gradients (1 point)\n",
    "Use MSE as the cost function $J$. Find a way to compute, calculate, or derive its gradients w.r.t. the model parameters $a_1, ..., a_m, b$\n",
    "\n",
    "Note that computing the cost function value and its gradients are two separate operations. Quick reminder: use vectorization to compute all gradients (maybe with the exception of $\\frac{\\partial J}{\\partial b}$) at the same time."
   ]
  },
  {
   "cell_type": "code",
   "execution_count": 12,
   "id": "99388ae1-1b23-4233-acf9-daf589bba07a",
   "metadata": {},
   "outputs": [],
   "source": [
    "def compute_cost(x,y,a,b):\n",
    "    predictions = a * x + b\n",
    "    distances = (y - predictions)**2\n",
    "    total_distances = np.mean(distances)\n",
    "    return total_distances"
   ]
  },
  {
   "cell_type": "code",
   "execution_count": 13,
   "id": "681b7c5e-2981-4f76-9804-f74c120082b3",
   "metadata": {},
   "outputs": [],
   "source": [
    "def compute_grad(a , b, x, y):\n",
    "    predictions = a * x + b\n",
    "    a_gradient = -2/len(x) * np.sum(x * (y - predictions)) \n",
    "    b_gradient = -2/len(y) * np.sum(y - predictions)\n",
    "    return np.array([a_gradient, b_gradient])"
   ]
  },
  {
   "cell_type": "markdown",
   "id": "1bad786e-4299-4900-ae86-16cbd2235a6e",
   "metadata": {},
   "source": [
    "### Problem 5. Perform gradient descent (1 point)\n",
    "Perform weight updates iteratively. Find a useful criterion for stopping. For most cases, just using a fixed (large) number of steps is enough.\n",
    "\n",
    "You'll need to set a starting point (think about which one should be good, and how it matters); and a learning rate."
   ]
  },
  {
   "cell_type": "code",
   "execution_count": null,
   "id": "effc3983-79b1-45a9-a31e-a893a6e45ffe",
   "metadata": {},
   "outputs": [],
   "source": []
  },
  {
   "cell_type": "code",
   "execution_count": null,
   "id": "dd4bc3bd-6b2c-4f40-9e94-40557a2325d0",
   "metadata": {},
   "outputs": [],
   "source": []
  },
  {
   "cell_type": "markdown",
   "id": "d18a168f-de4c-4035-88db-7350c2b91745",
   "metadata": {},
   "source": [
    "### Problem 6. Do other cost functions work? (2 points)\n",
    "Repeat the process in problems 4 and 5 with MAE, and then again - with the [Huber loss](https://en.wikipedia.org/wiki/Huber_loss). Both of them are less sensitive to outliers / anomalies than MSE); with the Huber loss function being specifically made for datasets with outliers.\n",
    "\n",
    "Explain your findings. Is there a cost function that works much better? How about speed of training (measured in wall time)?"
   ]
  },
  {
   "cell_type": "code",
   "execution_count": null,
   "id": "b3f0eb74-7b3d-4aa8-9749-dcb55e918a22",
   "metadata": {},
   "outputs": [],
   "source": []
  },
  {
   "cell_type": "markdown",
   "id": "1d4176d1-6cad-4830-824c-1d27e50efe89",
   "metadata": {},
   "source": [
    "### Problem 7. Experiment with the learning rate (1 point)\n",
    "Use your favorite cost function. Run several \"experiments\" with different learning rates. Try really small, and really large values. Observe and document your findings."
   ]
  },
  {
   "cell_type": "code",
   "execution_count": null,
   "id": "71f04525-95f3-427d-8763-27af6839cb93",
   "metadata": {},
   "outputs": [],
   "source": []
  },
  {
   "cell_type": "markdown",
   "id": "91385302-2fc1-48a4-a453-cce7f038e9c2",
   "metadata": {},
   "source": [
    "### Problem 8. Generate some data for classification (1 point)\n",
    "You'll need to create two clusters of points (one cluster for each class). I recomment using `scikit-learn`'s `make_blobs()` ([info](https://scikit-learn.org/stable/modules/generated/sklearn.datasets.make_blobs.html)). Use as many features as you used in problem 1."
   ]
  },
  {
   "cell_type": "code",
   "execution_count": null,
   "id": "b948009d-6af6-468c-ac6e-bacd4f75498c",
   "metadata": {},
   "outputs": [],
   "source": []
  },
  {
   "cell_type": "markdown",
   "id": "c6246890-0808-40e1-b892-fa1d11fd088c",
   "metadata": {},
   "source": [
    "### Problem 9. Perform logistic regression (1 point)\n",
    "Reuse the code you wrote in problems 3-7 as much as possible. If you wrote vectorized functions with variable parameters - you should find this easy. If not - it's not too late to go back and refactor your code.\n",
    "\n",
    "The modelling function for logistic regression is\n",
    "$$ \\tilde{y} = \\frac{1}{1+\\exp{(-\\sum_{i=1}^{m}a_i x_i + b)}}$$. Find a way to represent it using as much of your previous code as you can.\n",
    "\n",
    "The most commonly used loss function is the [cross-entropy](https://en.wikipedia.org/wiki/Cross-entropy).\n",
    "\n",
    "Experiment with different learning rates, basically repeating what you did in problem 7."
   ]
  },
  {
   "cell_type": "code",
   "execution_count": null,
   "id": "107e100b-1627-4300-8d2e-98e8b438e046",
   "metadata": {},
   "outputs": [],
   "source": []
  },
  {
   "cell_type": "markdown",
   "id": "411df95f-5f16-4c37-8649-2c495eb96974",
   "metadata": {},
   "source": [
    "### * Problem 10. Continue experimenting and delving deep into ML\n",
    "You just saw how modelling works and how to implement some code. Some of the things you can think about (and I recommend you pause and ponder on some of them are):\n",
    "* Code: OOP can be your friend sometimes. `scikit-learn`'s models have `fit()`, `predict()` and `score()` methods.\n",
    "* Data: What approaches work on non-generated data?\n",
    "* Evaluation: How well do different models (and their \"settings\" - hyperparameters) actually work in practice? How do we evaluate a model in a meaningful way?\n",
    "* Optimization - maths: Look at what `optimizers` (or solvers) are used in `scikit-learn` and why. Many \"tricks\" revolve around making the algorithm converge (finish) in fewer iterations, or making it more numerically stable.\n",
    "* Optimization - code: Are there ways to make the code run fastr?"
   ]
  },
  {
   "cell_type": "code",
   "execution_count": null,
   "id": "08101fb6-d53f-4dc9-8f37-d07478c9e220",
   "metadata": {},
   "outputs": [],
   "source": []
  }
 ],
 "metadata": {
  "kernelspec": {
   "display_name": "Python 3 (ipykernel)",
   "language": "python",
   "name": "python3"
  },
  "language_info": {
   "codemirror_mode": {
    "name": "ipython",
    "version": 3
   },
   "file_extension": ".py",
   "mimetype": "text/x-python",
   "name": "python",
   "nbconvert_exporter": "python",
   "pygments_lexer": "ipython3",
   "version": "3.11.7"
  }
 },
 "nbformat": 4,
 "nbformat_minor": 5
}
