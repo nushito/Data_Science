{
 "cells": [
  {
   "cell_type": "code",
   "execution_count": 1,
   "id": "6f5b4f3d-b385-4679-a556-75e6a1e68fa9",
   "metadata": {},
   "outputs": [
    {
     "name": "stdout",
     "output_type": "stream",
     "text": [
      "Note: you may need to restart the kernel to use updated packages.\n"
     ]
    }
   ],
   "source": [
    "%matplotlib inline\n",
    "%pip install -q transformers"
   ]
  },
  {
   "cell_type": "code",
   "execution_count": 2,
   "id": "663c639d-f5de-4fc4-a9d1-d2fd4586cfd1",
   "metadata": {},
   "outputs": [
    {
     "name": "stderr",
     "output_type": "stream",
     "text": [
      "2024-08-12 13:59:13.376132: I tensorflow/core/platform/cpu_feature_guard.cc:210] This TensorFlow binary is optimized to use available CPU instructions in performance-critical operations.\n",
      "To enable the following instructions: AVX2 FMA, in other operations, rebuild TensorFlow with the appropriate compiler flags.\n"
     ]
    }
   ],
   "source": [
    "import pandas as pd\n",
    "import numpy as np\n",
    "import matplotlib.pyplot as plt\n",
    "#import seaborn as sns\n",
    "from collections import Counter\n",
    "import nltk\n",
    "from nltk.corpus import stopwords\n",
    "from nltk.stem import PorterStemmer\n",
    "from sklearn.feature_extraction.text import CountVectorizer,TfidfVectorizer\n",
    "from sklearn.naive_bayes import MultinomialNB\n",
    "from transformers import pipeline, AutoModelForSequenceClassification, AutoTokenizer\n",
    "from transformers import PreTrainedTokenizerFast\n",
    "from tokenizers import BertWordPieceTokenizer"
   ]
  },
  {
   "cell_type": "markdown",
   "id": "0375379c-19e4-4e50-9f63-5c74cf81ece5",
   "metadata": {},
   "source": [
    "# Working with Text Lab\n",
    "## Information retrieval, preprocessing, and feature extraction"
   ]
  },
  {
   "cell_type": "markdown",
   "id": "d92edf71-988c-4e95-b17f-987095e9246a",
   "metadata": {},
   "source": [
    "In this lab, you'll be looking at and exploring European restaurant reviews. The dataset is rather tiny, but that's just because it has to run on any machine. In real life, just like with images, texts can be several terabytes long.\n",
    "\n",
    "The dataset is located [here](https://www.kaggle.com/datasets/gorororororo23/european-restaurant-reviews) and as always, it's been provided to you in the `data/` folder."
   ]
  },
  {
   "cell_type": "markdown",
   "id": "888cf2cf-1cd7-4538-a7a2-462e80b1df99",
   "metadata": {},
   "source": [
    "### Problem 1. Read the dataset (1 point)\n",
    "Read the dataset, get acquainted with it. Ensure the data is valid before you proceed.\n",
    "\n",
    "How many observations are there? Which country is the most represented? What time range does the dataset represent?\n",
    "\n",
    "Is the sample balanced in terms of restaurants, i.e., do you have an equal number of reviews for each one? Most importantly, is the dataset balanced in terms of **sentiment**?"
   ]
  },
  {
   "cell_type": "code",
   "execution_count": 3,
   "id": "596f1cf0-acfe-4e05-a953-6a2fc1ea2463",
   "metadata": {},
   "outputs": [],
   "source": [
    "european_restaurants = pd.read_csv(\"data/European Restaurant Reviews.csv\")"
   ]
  },
  {
   "cell_type": "code",
   "execution_count": 4,
   "id": "2438e73a-6510-41fa-9787-1625d2661a64",
   "metadata": {},
   "outputs": [
    {
     "data": {
      "text/html": [
       "<div>\n",
       "<style scoped>\n",
       "    .dataframe tbody tr th:only-of-type {\n",
       "        vertical-align: middle;\n",
       "    }\n",
       "\n",
       "    .dataframe tbody tr th {\n",
       "        vertical-align: top;\n",
       "    }\n",
       "\n",
       "    .dataframe thead th {\n",
       "        text-align: right;\n",
       "    }\n",
       "</style>\n",
       "<table border=\"1\" class=\"dataframe\">\n",
       "  <thead>\n",
       "    <tr style=\"text-align: right;\">\n",
       "      <th></th>\n",
       "      <th>Country</th>\n",
       "      <th>Restaurant Name</th>\n",
       "      <th>Sentiment</th>\n",
       "      <th>Review Title</th>\n",
       "      <th>Review Date</th>\n",
       "      <th>Review</th>\n",
       "    </tr>\n",
       "  </thead>\n",
       "  <tbody>\n",
       "    <tr>\n",
       "      <th>count</th>\n",
       "      <td>1502</td>\n",
       "      <td>1502</td>\n",
       "      <td>1502</td>\n",
       "      <td>1502</td>\n",
       "      <td>1502</td>\n",
       "      <td>1502</td>\n",
       "    </tr>\n",
       "    <tr>\n",
       "      <th>unique</th>\n",
       "      <td>7</td>\n",
       "      <td>7</td>\n",
       "      <td>2</td>\n",
       "      <td>1343</td>\n",
       "      <td>143</td>\n",
       "      <td>1426</td>\n",
       "    </tr>\n",
       "    <tr>\n",
       "      <th>top</th>\n",
       "      <td>France</td>\n",
       "      <td>The Frog at Bercy Village</td>\n",
       "      <td>Positive</td>\n",
       "      <td>Excellent</td>\n",
       "      <td>May 2014 •</td>\n",
       "      <td>I'm afraid we were very let down by this resta...</td>\n",
       "    </tr>\n",
       "    <tr>\n",
       "      <th>freq</th>\n",
       "      <td>512</td>\n",
       "      <td>512</td>\n",
       "      <td>1237</td>\n",
       "      <td>9</td>\n",
       "      <td>108</td>\n",
       "      <td>4</td>\n",
       "    </tr>\n",
       "  </tbody>\n",
       "</table>\n",
       "</div>"
      ],
      "text/plain": [
       "       Country            Restaurant Name Sentiment Review Title Review Date  \\\n",
       "count     1502                       1502      1502         1502        1502   \n",
       "unique       7                          7         2         1343         143   \n",
       "top     France  The Frog at Bercy Village  Positive    Excellent  May 2014 •   \n",
       "freq       512                        512      1237            9         108   \n",
       "\n",
       "                                                   Review  \n",
       "count                                                1502  \n",
       "unique                                               1426  \n",
       "top     I'm afraid we were very let down by this resta...  \n",
       "freq                                                    4  "
      ]
     },
     "execution_count": 4,
     "metadata": {},
     "output_type": "execute_result"
    }
   ],
   "source": [
    "european_restaurants.describe()"
   ]
  },
  {
   "cell_type": "code",
   "execution_count": 5,
   "id": "6c89327a-5a36-4717-9733-7b7a70d3c815",
   "metadata": {},
   "outputs": [
    {
     "data": {
      "text/plain": [
       "(1502, 6)"
      ]
     },
     "execution_count": 5,
     "metadata": {},
     "output_type": "execute_result"
    }
   ],
   "source": [
    "european_restaurants.shape"
   ]
  },
  {
   "cell_type": "code",
   "execution_count": 6,
   "id": "c1376281-6bfc-43c5-996f-81ab6313395a",
   "metadata": {},
   "outputs": [],
   "source": [
    "european_restaurants.columns = european_restaurants.columns.str.lower().str.replace(\" \",\"_\")"
   ]
  },
  {
   "cell_type": "code",
   "execution_count": 7,
   "id": "102e816c-10f6-4967-841e-ec5509366eb1",
   "metadata": {},
   "outputs": [
    {
     "data": {
      "text/plain": [
       "<bound method Series.unique of country\n",
       "France     512\n",
       "Italy      318\n",
       "Morroco    210\n",
       "Cuba       146\n",
       "Poland     135\n",
       "Russia     100\n",
       "India       81\n",
       "Name: count, dtype: int64>"
      ]
     },
     "execution_count": 7,
     "metadata": {},
     "output_type": "execute_result"
    }
   ],
   "source": [
    "european_restaurants.country.value_counts().unique"
   ]
  },
  {
   "cell_type": "code",
   "execution_count": 8,
   "id": "44915ec7-a4f0-4b0b-b743-a156c86baabb",
   "metadata": {},
   "outputs": [
    {
     "data": {
      "text/plain": [
       "('Apr 2012 •', 'Sept 2023 •')"
      ]
     },
     "execution_count": 8,
     "metadata": {},
     "output_type": "execute_result"
    }
   ],
   "source": [
    "european_restaurants.review_date.min(), european_restaurants.review_date.max()"
   ]
  },
  {
   "cell_type": "code",
   "execution_count": 9,
   "id": "51514851-cd37-4baa-a150-15e4b9b457cd",
   "metadata": {},
   "outputs": [
    {
     "data": {
      "text/plain": [
       "country            object\n",
       "restaurant_name    object\n",
       "sentiment          object\n",
       "review_title       object\n",
       "review_date        object\n",
       "review             object\n",
       "dtype: object"
      ]
     },
     "execution_count": 9,
     "metadata": {},
     "output_type": "execute_result"
    }
   ],
   "source": [
    "european_restaurants.dtypes"
   ]
  },
  {
   "cell_type": "code",
   "execution_count": 10,
   "id": "c82c43bc-8ec2-497d-b905-a62def154899",
   "metadata": {},
   "outputs": [
    {
     "data": {
      "text/html": [
       "<div>\n",
       "<style scoped>\n",
       "    .dataframe tbody tr th:only-of-type {\n",
       "        vertical-align: middle;\n",
       "    }\n",
       "\n",
       "    .dataframe tbody tr th {\n",
       "        vertical-align: top;\n",
       "    }\n",
       "\n",
       "    .dataframe thead th {\n",
       "        text-align: right;\n",
       "    }\n",
       "</style>\n",
       "<table border=\"1\" class=\"dataframe\">\n",
       "  <thead>\n",
       "    <tr style=\"text-align: right;\">\n",
       "      <th></th>\n",
       "      <th>country</th>\n",
       "      <th>restaurant_name</th>\n",
       "      <th>sentiment</th>\n",
       "      <th>review_title</th>\n",
       "      <th>review_date</th>\n",
       "      <th>review</th>\n",
       "    </tr>\n",
       "  </thead>\n",
       "  <tbody>\n",
       "    <tr>\n",
       "      <th>0</th>\n",
       "      <td>France</td>\n",
       "      <td>The Frog at Bercy Village</td>\n",
       "      <td>Negative</td>\n",
       "      <td>Rude manager</td>\n",
       "      <td>May 2024 •</td>\n",
       "      <td>The manager became agressive when I said the c...</td>\n",
       "    </tr>\n",
       "    <tr>\n",
       "      <th>1</th>\n",
       "      <td>France</td>\n",
       "      <td>The Frog at Bercy Village</td>\n",
       "      <td>Negative</td>\n",
       "      <td>A big disappointment</td>\n",
       "      <td>Feb 2024 •</td>\n",
       "      <td>I ordered a beef fillet ask to be done medium,...</td>\n",
       "    </tr>\n",
       "    <tr>\n",
       "      <th>2</th>\n",
       "      <td>France</td>\n",
       "      <td>The Frog at Bercy Village</td>\n",
       "      <td>Negative</td>\n",
       "      <td>Pretty Place with Bland Food</td>\n",
       "      <td>Nov 2023 •</td>\n",
       "      <td>This is an attractive venue with welcoming, al...</td>\n",
       "    </tr>\n",
       "    <tr>\n",
       "      <th>3</th>\n",
       "      <td>France</td>\n",
       "      <td>The Frog at Bercy Village</td>\n",
       "      <td>Negative</td>\n",
       "      <td>Great service and wine but inedible food</td>\n",
       "      <td>Mar 2023 •</td>\n",
       "      <td>Sadly I  used the high TripAdvisor rating too ...</td>\n",
       "    </tr>\n",
       "    <tr>\n",
       "      <th>4</th>\n",
       "      <td>France</td>\n",
       "      <td>The Frog at Bercy Village</td>\n",
       "      <td>Negative</td>\n",
       "      <td>Avoid- Worst meal in Rome - possibly ever</td>\n",
       "      <td>Nov 2022 •</td>\n",
       "      <td>From the start this meal was bad- especially g...</td>\n",
       "    </tr>\n",
       "    <tr>\n",
       "      <th>...</th>\n",
       "      <td>...</td>\n",
       "      <td>...</td>\n",
       "      <td>...</td>\n",
       "      <td>...</td>\n",
       "      <td>...</td>\n",
       "      <td>...</td>\n",
       "    </tr>\n",
       "    <tr>\n",
       "      <th>1492</th>\n",
       "      <td>Cuba</td>\n",
       "      <td>Old Square (Plaza Vieja)</td>\n",
       "      <td>Negative</td>\n",
       "      <td>It's nothing exciting over there</td>\n",
       "      <td>Oct 2016 •</td>\n",
       "      <td>We visited the Havana's Club Museum which is l...</td>\n",
       "    </tr>\n",
       "    <tr>\n",
       "      <th>1493</th>\n",
       "      <td>Cuba</td>\n",
       "      <td>Old Square (Plaza Vieja)</td>\n",
       "      <td>Negative</td>\n",
       "      <td>Tourist Trap</td>\n",
       "      <td>Oct 2016 •</td>\n",
       "      <td>Food and service was awful. Very pretty stop. ...</td>\n",
       "    </tr>\n",
       "    <tr>\n",
       "      <th>1494</th>\n",
       "      <td>Cuba</td>\n",
       "      <td>Old Square (Plaza Vieja)</td>\n",
       "      <td>Negative</td>\n",
       "      <td>Over-renovated, or in a state of transition?</td>\n",
       "      <td>Oct 2016 •</td>\n",
       "      <td>I was disappointed with the Plaza Vieja, to wh...</td>\n",
       "    </tr>\n",
       "    <tr>\n",
       "      <th>1495</th>\n",
       "      <td>Cuba</td>\n",
       "      <td>Old Square (Plaza Vieja)</td>\n",
       "      <td>Negative</td>\n",
       "      <td>The square is beautiful, but that's it.</td>\n",
       "      <td>Oct 2016 •</td>\n",
       "      <td>Beautiful in the square and up to two blocks o...</td>\n",
       "    </tr>\n",
       "    <tr>\n",
       "      <th>1496</th>\n",
       "      <td>Cuba</td>\n",
       "      <td>Old Square (Plaza Vieja)</td>\n",
       "      <td>Negative</td>\n",
       "      <td>Great place to watch Cuba go by</td>\n",
       "      <td>Oct 2016 •</td>\n",
       "      <td>We were lucky enough to have an overnight stay...</td>\n",
       "    </tr>\n",
       "  </tbody>\n",
       "</table>\n",
       "<p>1453 rows × 6 columns</p>\n",
       "</div>"
      ],
      "text/plain": [
       "     country            restaurant_name sentiment  \\\n",
       "0     France  The Frog at Bercy Village  Negative   \n",
       "1     France  The Frog at Bercy Village  Negative   \n",
       "2     France  The Frog at Bercy Village  Negative   \n",
       "3     France  The Frog at Bercy Village  Negative   \n",
       "4     France  The Frog at Bercy Village  Negative   \n",
       "...      ...                        ...       ...   \n",
       "1492    Cuba   Old Square (Plaza Vieja)  Negative   \n",
       "1493    Cuba   Old Square (Plaza Vieja)  Negative   \n",
       "1494    Cuba   Old Square (Plaza Vieja)  Negative   \n",
       "1495    Cuba   Old Square (Plaza Vieja)  Negative   \n",
       "1496    Cuba   Old Square (Plaza Vieja)  Negative   \n",
       "\n",
       "                                      review_title review_date  \\\n",
       "0                                     Rude manager  May 2024 •   \n",
       "1                             A big disappointment  Feb 2024 •   \n",
       "2                     Pretty Place with Bland Food  Nov 2023 •   \n",
       "3         Great service and wine but inedible food  Mar 2023 •   \n",
       "4        Avoid- Worst meal in Rome - possibly ever  Nov 2022 •   \n",
       "...                                            ...         ...   \n",
       "1492              It's nothing exciting over there  Oct 2016 •   \n",
       "1493                                  Tourist Trap  Oct 2016 •   \n",
       "1494  Over-renovated, or in a state of transition?  Oct 2016 •   \n",
       "1495       The square is beautiful, but that's it.  Oct 2016 •   \n",
       "1496               Great place to watch Cuba go by  Oct 2016 •   \n",
       "\n",
       "                                                 review  \n",
       "0     The manager became agressive when I said the c...  \n",
       "1     I ordered a beef fillet ask to be done medium,...  \n",
       "2     This is an attractive venue with welcoming, al...  \n",
       "3     Sadly I  used the high TripAdvisor rating too ...  \n",
       "4     From the start this meal was bad- especially g...  \n",
       "...                                                 ...  \n",
       "1492  We visited the Havana's Club Museum which is l...  \n",
       "1493  Food and service was awful. Very pretty stop. ...  \n",
       "1494  I was disappointed with the Plaza Vieja, to wh...  \n",
       "1495  Beautiful in the square and up to two blocks o...  \n",
       "1496  We were lucky enough to have an overnight stay...  \n",
       "\n",
       "[1453 rows x 6 columns]"
      ]
     },
     "execution_count": 10,
     "metadata": {},
     "output_type": "execute_result"
    }
   ],
   "source": [
    "european_restaurants.drop_duplicates()"
   ]
  },
  {
   "cell_type": "code",
   "execution_count": 11,
   "id": "5e3b558d-f01b-4ca4-893a-b44d563a3d3d",
   "metadata": {},
   "outputs": [],
   "source": [
    "european_restaurants.review_date = european_restaurants.review_date.str[:-1]"
   ]
  },
  {
   "cell_type": "markdown",
   "id": "cd697ee6-547e-40b9-a78f-9a6ff79f644d",
   "metadata": {},
   "source": [
    "#### Observations were 1502 and after drop duplicates they becaome 1453. Most represented country is France. Time range is form April 2012 till September 2023"
   ]
  },
  {
   "cell_type": "markdown",
   "id": "01a55576-cd3c-4451-b5c8-6a51356a7386",
   "metadata": {},
   "source": [
    "### Problem 2. Getting acquainted with reviews (1 point)\n",
    "Are positive comments typically shorter or longer? Try to define a good, robust metric for \"length\" of a text; it's not necessary just the character count. Can you explain your findings?"
   ]
  },
  {
   "cell_type": "code",
   "execution_count": 12,
   "id": "97901e74-6093-4274-966a-da73ec3a5961",
   "metadata": {
    "scrolled": true
   },
   "outputs": [
    {
     "data": {
      "text/plain": [
       "<bound method Series.unique of sentiment\n",
       "Positive    1237\n",
       "Negative     265\n",
       "Name: count, dtype: int64>"
      ]
     },
     "execution_count": 12,
     "metadata": {},
     "output_type": "execute_result"
    }
   ],
   "source": [
    "european_restaurants.sentiment.value_counts().unique"
   ]
  },
  {
   "cell_type": "code",
   "execution_count": 13,
   "id": "4deb82ff-66b3-4b8a-ba4d-55c4e6cb982f",
   "metadata": {},
   "outputs": [
    {
     "name": "stdout",
     "output_type": "stream",
     "text": [
      "Negative 761.0075471698113\n",
      "Positive 281.9102667744543\n"
     ]
    }
   ],
   "source": [
    "for sentiment, group_data in european_restaurants.groupby(\"sentiment\"):\n",
    "    print(sentiment, group_data.review.str.len().mean())"
   ]
  },
  {
   "cell_type": "markdown",
   "id": "a7d3aafe-b490-4736-b342-2f3b13413de0",
   "metadata": {},
   "source": [
    "#### By finding and compare the mean value we can see that positive comments are shorter. "
   ]
  },
  {
   "cell_type": "markdown",
   "id": "7c440fff-c079-464c-b97d-fffbf3d65baf",
   "metadata": {},
   "source": [
    "### Problem 3. Preprocess the review content (2 points)\n",
    "You'll likely need to do this while working on the problems below, but try to synthesize (and document!) your preprocessing here. Your tasks will revolve around words and their connection to sentiment. While preprocessing, keep in mind the domain (restaurant reviews) and the task (sentiment analysis)."
   ]
  },
  {
   "cell_type": "markdown",
   "id": "ccb8cb83-d511-4395-84c9-f848863dc698",
   "metadata": {},
   "source": [
    "#### First, i will check for NA reviews and will drop them"
   ]
  },
  {
   "cell_type": "code",
   "execution_count": 19,
   "id": "f8315366-cc12-4833-a29d-4f99e17e4228",
   "metadata": {},
   "outputs": [
    {
     "data": {
      "text/html": [
       "<div>\n",
       "<style scoped>\n",
       "    .dataframe tbody tr th:only-of-type {\n",
       "        vertical-align: middle;\n",
       "    }\n",
       "\n",
       "    .dataframe tbody tr th {\n",
       "        vertical-align: top;\n",
       "    }\n",
       "\n",
       "    .dataframe thead th {\n",
       "        text-align: right;\n",
       "    }\n",
       "</style>\n",
       "<table border=\"1\" class=\"dataframe\">\n",
       "  <thead>\n",
       "    <tr style=\"text-align: right;\">\n",
       "      <th></th>\n",
       "      <th>country</th>\n",
       "      <th>restaurant_name</th>\n",
       "      <th>sentiment</th>\n",
       "      <th>review_title</th>\n",
       "      <th>review_date</th>\n",
       "      <th>review</th>\n",
       "    </tr>\n",
       "  </thead>\n",
       "  <tbody>\n",
       "  </tbody>\n",
       "</table>\n",
       "</div>"
      ],
      "text/plain": [
       "Empty DataFrame\n",
       "Columns: [country, restaurant_name, sentiment, review_title, review_date, review]\n",
       "Index: []"
      ]
     },
     "execution_count": 19,
     "metadata": {},
     "output_type": "execute_result"
    }
   ],
   "source": [
    "european_restaurants[european_restaurants.review.isna()]"
   ]
  },
  {
   "cell_type": "code",
   "execution_count": 32,
   "id": "ec944889-9854-4099-9171-11a63f17eb18",
   "metadata": {
    "scrolled": true
   },
   "outputs": [
    {
     "name": "stdout",
     "output_type": "stream",
     "text": [
      "    country                        restaurant_name sentiment  \\\n",
      "107  France              The Frog at Bercy Village  Negative   \n",
      "132  France              The Frog at Bercy Village  Negative   \n",
      "524   Italy  Ad Hoc Ristorante (Piazza del Popolo)  Negative   \n",
      "547   Italy  Ad Hoc Ristorante (Piazza del Popolo)  Negative   \n",
      "\n",
      "                                          review_title review_date  \\\n",
      "107  rotten starter - no apology. otherwise ok albe...   Dec 2011    \n",
      "132  rotten starter - no apology. otherwise ok albe...   Dec 2011    \n",
      "524  rotten starter - no apology. otherwise ok albe...   Dec 2011    \n",
      "547  rotten starter - no apology. otherwise ok albe...   Dec 2011    \n",
      "\n",
      "                                                review  \n",
      "107  10 of us ate on christmas day at Ad Hoc - we w...  \n",
      "132  10 of us ate on christmas day at Ad Hoc - we w...  \n",
      "524  10 of us ate on christmas day at Ad Hoc - we w...  \n",
      "547  10 of us ate on christmas day at Ad Hoc - we w...  \n",
      "    country                        restaurant_name sentiment  \\\n",
      "121  France              The Frog at Bercy Village  Negative   \n",
      "146  France              The Frog at Bercy Village  Negative   \n",
      "513   Italy  Ad Hoc Ristorante (Piazza del Popolo)  Negative   \n",
      "538   Italy  Ad Hoc Ristorante (Piazza del Popolo)  Negative   \n",
      "\n",
      "                  review_title review_date  \\\n",
      "121  Stay clear of this place!   Feb 2022    \n",
      "146  Stay clear of this place!   Feb 2022    \n",
      "513  Stay clear of this place!   Feb 2022    \n",
      "538  Stay clear of this place!   Feb 2022    \n",
      "\n",
      "                                                review  \n",
      "121  After a 10 day vacation in Italy we wanted to ...  \n",
      "146  After a 10 day vacation in Italy we wanted to ...  \n",
      "513  After a 10 day vacation in Italy we wanted to ...  \n",
      "538  After a 10 day vacation in Italy we wanted to ...  \n",
      "    country                        restaurant_name sentiment  \\\n",
      "122  France              The Frog at Bercy Village  Negative   \n",
      "147  France              The Frog at Bercy Village  Negative   \n",
      "514   Italy  Ad Hoc Ristorante (Piazza del Popolo)  Negative   \n",
      "539   Italy  Ad Hoc Ristorante (Piazza del Popolo)  Negative   \n",
      "\n",
      "                                          review_title review_date  \\\n",
      "122  Lots of fancy talk about their food and wines....   Feb 2022    \n",
      "147  Lots of fancy talk about their food and wines....   Feb 2022    \n",
      "514  Lots of fancy talk about their food and wines....   Feb 2022    \n",
      "539  Lots of fancy talk about their food and wines....   Feb 2022    \n",
      "\n",
      "                                                review  \n",
      "122  Agree with all previous negative reviews.Arriv...  \n",
      "147  Agree with all previous negative reviews.Arriv...  \n",
      "514  Agree with all previous negative reviews.Arriv...  \n",
      "539  Agree with all previous negative reviews.Arriv...  \n",
      "     country           restaurant_name sentiment      review_title  \\\n",
      "1488    Cuba  Old Square (Plaza Vieja)  Negative  The Tourism Trap   \n",
      "1497    Cuba  Old Square (Plaza Vieja)  Negative  The Tourism Trap   \n",
      "\n",
      "     review_date                                             review  \n",
      "1488   Oct 2016   Despite the other reviews saying that this is ...  \n",
      "1497   Oct 2016   Despite the other reviews saying that this is ...  \n",
      "     country           restaurant_name sentiment  review_title review_date  \\\n",
      "1493    Cuba  Old Square (Plaza Vieja)  Negative  Tourist Trap   Oct 2016    \n",
      "1501    Cuba  Old Square (Plaza Vieja)  Negative  Tourist Trap   Oct 2016    \n",
      "\n",
      "                                                 review  \n",
      "1493  Food and service was awful. Very pretty stop. ...  \n",
      "1501  Food and service was awful. Very pretty stop. ...  \n",
      "    country                        restaurant_name sentiment  \\\n",
      "105  France              The Frog at Bercy Village  Negative   \n",
      "130  France              The Frog at Bercy Village  Negative   \n",
      "522   Italy  Ad Hoc Ristorante (Piazza del Popolo)  Negative   \n",
      "545   Italy  Ad Hoc Ristorante (Piazza del Popolo)  Negative   \n",
      "\n",
      "               review_title review_date  \\\n",
      "105  Pretty dissappointing.   Feb 2022    \n",
      "130  Pretty dissappointing.   Feb 2022    \n",
      "522  Pretty dissappointing.   Feb 2022    \n",
      "545  Pretty dissappointing.   Feb 2022    \n",
      "\n",
      "                                                review  \n",
      "105  I actually never write reviews for the restaur...  \n",
      "130  I actually never write reviews for the restaur...  \n",
      "522  I actually never write reviews for the restaur...  \n",
      "545  I actually never write reviews for the restaur...  \n",
      "    country                        restaurant_name sentiment  review_title  \\\n",
      "110  France              The Frog at Bercy Village  Negative  Poor service   \n",
      "135  France              The Frog at Bercy Village  Negative  Poor service   \n",
      "527   Italy  Ad Hoc Ristorante (Piazza del Popolo)  Negative  Poor service   \n",
      "550   Italy  Ad Hoc Ristorante (Piazza del Popolo)  Negative  Poor service   \n",
      "\n",
      "    review_date                                             review  \n",
      "110   Nov 2011   I can't comment on the food but the service wa...  \n",
      "135   Nov 2011   I can't comment on the food but the service wa...  \n",
      "527   Nov 2011   I can't comment on the food but the service wa...  \n",
      "550   Nov 2011   I can't comment on the food but the service wa...  \n",
      "    country                        restaurant_name sentiment  \\\n",
      "124  France              The Frog at Bercy Village  Negative   \n",
      "149  France              The Frog at Bercy Village  Negative   \n",
      "516   Italy  Ad Hoc Ristorante (Piazza del Popolo)  Negative   \n",
      "541   Italy  Ad Hoc Ristorante (Piazza del Popolo)  Negative   \n",
      "\n",
      "                                         review_title review_date  \\\n",
      "124  disappointing - after reading such great reviews   Feb 2022    \n",
      "149  disappointing - after reading such great reviews   Feb 2022    \n",
      "516  disappointing - after reading such great reviews   Feb 2022    \n",
      "541  disappointing - after reading such great reviews   Feb 2022    \n",
      "\n",
      "                                                review  \n",
      "124  I was in Rome this weekend and i had booked a ...  \n",
      "149  I was in Rome this weekend and i had booked a ...  \n",
      "516  I was in Rome this weekend and i had booked a ...  \n",
      "541  I was in Rome this weekend and i had booked a ...  \n",
      "    country                        restaurant_name sentiment review_title  \\\n",
      "106  France              The Frog at Bercy Village  Negative        Sorry   \n",
      "131  France              The Frog at Bercy Village  Negative        Sorry   \n",
      "523   Italy  Ad Hoc Ristorante (Piazza del Popolo)  Negative        Sorry   \n",
      "546   Italy  Ad Hoc Ristorante (Piazza del Popolo)  Negative        Sorry   \n",
      "\n",
      "    review_date                                             review  \n",
      "106   Feb 2012   I'm afraid we were very let down by this resta...  \n",
      "131   Feb 2012   I'm afraid we were very let down by this resta...  \n",
      "523   Feb 2012   I'm afraid we were very let down by this resta...  \n",
      "546   Feb 2012   I'm afraid we were very let down by this resta...  \n",
      "    country                        restaurant_name sentiment review_title  \\\n",
      "123  France              The Frog at Bercy Village  Negative     SHAMEFUL   \n",
      "148  France              The Frog at Bercy Village  Negative     SHAMEFUL   \n",
      "515   Italy  Ad Hoc Ristorante (Piazza del Popolo)  Negative     SHAMEFUL   \n",
      "540   Italy  Ad Hoc Ristorante (Piazza del Popolo)  Negative     SHAMEFUL   \n",
      "\n",
      "    review_date                                             review  \n",
      "123   Feb 2022   It was just a SHAME!\\n\\nWe waited for our star...  \n",
      "148   Feb 2022   It was just a SHAME!\\n\\nWe waited for our star...  \n",
      "515   Feb 2022   It was just a SHAME!\\n\\nWe waited for our star...  \n",
      "540   Feb 2022   It was just a SHAME!\\n\\nWe waited for our star...  \n",
      "    country                        restaurant_name sentiment  \\\n",
      "127  France              The Frog at Bercy Village  Negative   \n",
      "151  France              The Frog at Bercy Village  Negative   \n",
      "519   Italy  Ad Hoc Ristorante (Piazza del Popolo)  Negative   \n",
      "543   Italy  Ad Hoc Ristorante (Piazza del Popolo)  Negative   \n",
      "\n",
      "                    review_title review_date  \\\n",
      "127  How not to be disappointed?   May 2024    \n",
      "151  How not to be disappointed?   May 2024    \n",
      "519  How not to be disappointed?   May 2024    \n",
      "543  How not to be disappointed?   May 2024    \n",
      "\n",
      "                                                review  \n",
      "127  It was presented to us as one of the best Roma...  \n",
      "151  It was presented to us as one of the best Roma...  \n",
      "519  It was presented to us as one of the best Roma...  \n",
      "543  It was presented to us as one of the best Roma...  \n",
      "    country                        restaurant_name sentiment  \\\n",
      "120  France              The Frog at Bercy Village  Negative   \n",
      "145  France              The Frog at Bercy Village  Negative   \n",
      "512   Italy  Ad Hoc Ristorante (Piazza del Popolo)  Negative   \n",
      "537   Italy  Ad Hoc Ristorante (Piazza del Popolo)  Negative   \n",
      "\n",
      "                       review_title review_date  \\\n",
      "120  This place lacks human decency  Sept 2011    \n",
      "145  This place lacks human decency  Sept 2011    \n",
      "512  This place lacks human decency  Sept 2011    \n",
      "537  This place lacks human decency  Sept 2011    \n",
      "\n",
      "                                                review  \n",
      "120  My husband and I are in Rome for our honeymoon...  \n",
      "145  My husband and I are in Rome for our honeymoon...  \n",
      "512  My husband and I are in Rome for our honeymoon...  \n",
      "537  My husband and I are in Rome for our honeymoon...  \n",
      "    country                        restaurant_name sentiment  \\\n",
      "119  France              The Frog at Bercy Village  Negative   \n",
      "144  France              The Frog at Bercy Village  Negative   \n",
      "536   Italy  Ad Hoc Ristorante (Piazza del Popolo)  Negative   \n",
      "559   Italy  Ad Hoc Ristorante (Piazza del Popolo)  Negative   \n",
      "\n",
      "                         review_title review_date  \\\n",
      "119  TERRIBLE ATTITUDE!!!!DONT GO!!!!   Feb 2022    \n",
      "144  TERRIBLE ATTITUDE!!!!DONT GO!!!!   Feb 2022    \n",
      "536  TERRIBLE ATTITUDE!!!!DONT GO!!!!   Feb 2022    \n",
      "559  TERRIBLE ATTITUDE!!!!DONT GO!!!!   Oct 2011    \n",
      "\n",
      "                                                review  \n",
      "119  Terrible attitude as soon as walked in!!! Who ...  \n",
      "144  Terrible attitude as soon as walked in!!! Who ...  \n",
      "536  Terrible attitude as soon as walked in!!! Who ...  \n",
      "559  Terrible attitude as soon as walked in!!! Who ...  \n",
      "     country           restaurant_name sentiment review_title review_date  \\\n",
      "1431    Cuba  Old Square (Plaza Vieja)  Negative    Old place   May 2014    \n",
      "1466    Cuba  Old Square (Plaza Vieja)  Negative    Old place     Sep 201   \n",
      "\n",
      "                                                 review  \n",
      "1431  The old place, have many fashion and tupical b...  \n",
      "1466  The old place, have many fashion and tupical b...  \n",
      "    country                        restaurant_name sentiment  \\\n",
      "117  France              The Frog at Bercy Village  Negative   \n",
      "142  France              The Frog at Bercy Village  Negative   \n",
      "534   Italy  Ad Hoc Ristorante (Piazza del Popolo)  Negative   \n",
      "557   Italy  Ad Hoc Ristorante (Piazza del Popolo)  Negative   \n",
      "\n",
      "                                         review_title review_date  \\\n",
      "117  How can this be the no. 1 restaurant in Rome ???   Oct 2011    \n",
      "142  How can this be the no. 1 restaurant in Rome ???   Oct 2011    \n",
      "534  How can this be the no. 1 restaurant in Rome ???   Oct 2011    \n",
      "557  How can this be the no. 1 restaurant in Rome ???   Oct 2011    \n",
      "\n",
      "                                                review  \n",
      "117  There wasn't one Italian person in this place....  \n",
      "142  There wasn't one Italian person in this place....  \n",
      "534  There wasn't one Italian person in this place....  \n",
      "557  There wasn't one Italian person in this place....  \n",
      "    country                        restaurant_name sentiment  \\\n",
      "128  France              The Frog at Bercy Village  Negative   \n",
      "520   Italy  Ad Hoc Ristorante (Piazza del Popolo)  Negative   \n",
      "\n",
      "               review_title review_date  \\\n",
      "128  Overrated and touristy   Mar 2024    \n",
      "520  Overrated and touristy   Mar 2024    \n",
      "\n",
      "                                                review  \n",
      "128  Unfortunately the food was just average. No di...  \n",
      "520  Unfortunately the food was just average. No di...  \n",
      "    country                        restaurant_name sentiment  \\\n",
      "109  France              The Frog at Bercy Village  Negative   \n",
      "134  France              The Frog at Bercy Village  Negative   \n",
      "526   Italy  Ad Hoc Ristorante (Piazza del Popolo)  Negative   \n",
      "549   Italy  Ad Hoc Ristorante (Piazza del Popolo)  Negative   \n",
      "\n",
      "                                          review_title review_date  \\\n",
      "109  Very slow, average food, lack of wine, totally...   Dec 2011    \n",
      "134  Very slow, average food, lack of wine, totally...   Dec 2011    \n",
      "526  Very slow, average food, lack of wine, totally...   Dec 2011    \n",
      "549  Very slow, average food, lack of wine, totally...   Dec 2011    \n",
      "\n",
      "                                                review  \n",
      "109  Visited Ad Hoc for NYE with my husband and was...  \n",
      "134  Visited Ad Hoc for NYE with my husband and was...  \n",
      "526  Visited Ad Hoc for NYE with my husband and was...  \n",
      "549  Visited Ad Hoc for NYE with my husband and was...  \n",
      "    country                        restaurant_name sentiment  \\\n",
      "114  France              The Frog at Bercy Village  Negative   \n",
      "139  France              The Frog at Bercy Village  Negative   \n",
      "531   Italy  Ad Hoc Ristorante (Piazza del Popolo)  Negative   \n",
      "554   Italy  Ad Hoc Ristorante (Piazza del Popolo)  Negative   \n",
      "\n",
      "                                       review_title review_date  \\\n",
      "114  Expected the TA rating's and I was disapointed   Feb 2022    \n",
      "139  Expected the TA rating's and I was disapointed   Feb 2022    \n",
      "531  Expected the TA rating's and I was disapointed   Feb 2022    \n",
      "554  Expected the TA rating's and I was disapointed   Feb 2022    \n",
      "\n",
      "                                                review  \n",
      "114  Walked in and didn't get in, so made a reserva...  \n",
      "139  Walked in and didn't get in, so made a reserva...  \n",
      "531  Walked in and didn't get in, so made a reserva...  \n",
      "554  Walked in and didn't get in, so made a reserva...  \n",
      "    country                        restaurant_name sentiment  \\\n",
      "116  France              The Frog at Bercy Village  Negative   \n",
      "141  France              The Frog at Bercy Village  Negative   \n",
      "533   Italy  Ad Hoc Ristorante (Piazza del Popolo)  Negative   \n",
      "556   Italy  Ad Hoc Ristorante (Piazza del Popolo)  Negative   \n",
      "\n",
      "                                          review_title review_date  \\\n",
      "116  A boring four and a half hours that could have...   Oct 2011    \n",
      "141  A boring four and a half hours that could have...   Oct 2011    \n",
      "533  A boring four and a half hours that could have...   Oct 2011    \n",
      "556  A boring four and a half hours that could have...   Oct 2011    \n",
      "\n",
      "                                                review  \n",
      "116  We arrived at 08.15 with table booked for 08.3...  \n",
      "141  We arrived at 08.15 with table booked for 08.3...  \n",
      "533  We arrived at 08.15 with table booked for 08.3...  \n",
      "556  We arrived at 08.15 with table booked for 08.3...  \n",
      "    country                        restaurant_name sentiment  \\\n",
      "129  France              The Frog at Bercy Village  Negative   \n",
      "521   Italy  Ad Hoc Ristorante (Piazza del Popolo)  Negative   \n",
      "544   Italy  Ad Hoc Ristorante (Piazza del Popolo)  Negative   \n",
      "\n",
      "                             review_title review_date  \\\n",
      "129  Bad tasting food difficult to digest   Oct 2023    \n",
      "521  Bad tasting food difficult to digest   Oct 2023    \n",
      "544  Bad tasting food difficult to digest   Oct 2023    \n",
      "\n",
      "                                                review  \n",
      "129  We didn't like the food that much.\\n\\nThe star...  \n",
      "521  We didn't like the food that much.\\n\\nThe star...  \n",
      "544  We didn't like the food that much.\\n\\nThe star...  \n",
      "    country                        restaurant_name sentiment  \\\n",
      "125  France              The Frog at Bercy Village  Negative   \n",
      "150  France              The Frog at Bercy Village  Negative   \n",
      "517   Italy  Ad Hoc Ristorante (Piazza del Popolo)  Negative   \n",
      "542   Italy  Ad Hoc Ristorante (Piazza del Popolo)  Negative   \n",
      "\n",
      "                                          review_title review_date  \\\n",
      "125  Ad Hoc - yes some of the details of this resta...   Feb 2022    \n",
      "150  Ad Hoc - yes some of the details of this resta...   Feb 2022    \n",
      "517  Ad Hoc - yes some of the details of this resta...   Feb 2022    \n",
      "542  Ad Hoc - yes some of the details of this resta...   Feb 2022    \n",
      "\n",
      "                                                review  \n",
      "125  We had a fab break in Rome for my 40th; the me...  \n",
      "150  We had a fab break in Rome for my 40th; the me...  \n",
      "517  We had a fab break in Rome for my 40th; the me...  \n",
      "542  We had a fab break in Rome for my 40th; the me...  \n",
      "    country                        restaurant_name sentiment  \\\n",
      "112  France              The Frog at Bercy Village  Negative   \n",
      "137  France              The Frog at Bercy Village  Negative   \n",
      "529   Italy  Ad Hoc Ristorante (Piazza del Popolo)  Negative   \n",
      "552   Italy  Ad Hoc Ristorante (Piazza del Popolo)  Negative   \n",
      "\n",
      "            review_title review_date  \\\n",
      "112  Rude and inflexible   Oct 2011    \n",
      "137  Rude and inflexible   Oct 2011    \n",
      "529  Rude and inflexible   Oct 2011    \n",
      "552  Rude and inflexible   Oct 2011    \n",
      "\n",
      "                                                review  \n",
      "112  We had a reservation for 4 people, but was joi...  \n",
      "137  We had a reservation for 4 people, but was joi...  \n",
      "529  We had a reservation for 4 people, but was joi...  \n",
      "552  We had a reservation for 4 people, but was joi...  \n",
      "    country                        restaurant_name sentiment  \\\n",
      "111  France              The Frog at Bercy Village  Negative   \n",
      "136  France              The Frog at Bercy Village  Negative   \n",
      "528   Italy  Ad Hoc Ristorante (Piazza del Popolo)  Negative   \n",
      "551   Italy  Ad Hoc Ristorante (Piazza del Popolo)  Negative   \n",
      "\n",
      "                    review_title review_date  \\\n",
      "111  Unfortunately disappointing   Oct 2011    \n",
      "136  Unfortunately disappointing   Oct 2011    \n",
      "528  Unfortunately disappointing   Oct 2011    \n",
      "551  Unfortunately disappointing   Oct 2011    \n",
      "\n",
      "                                                review  \n",
      "111  We reserved a table through the website. This ...  \n",
      "136  We reserved a table through the website. This ...  \n",
      "528  We reserved a table through the website. This ...  \n",
      "551  We reserved a table through the website. This ...  \n",
      "     country           restaurant_name sentiment  \\\n",
      "1492    Cuba  Old Square (Plaza Vieja)  Negative   \n",
      "1500    Cuba  Old Square (Plaza Vieja)  Negative   \n",
      "\n",
      "                          review_title review_date  \\\n",
      "1492  It's nothing exciting over there   Oct 2016    \n",
      "1500  It's nothing exciting over there   Oct 2016    \n",
      "\n",
      "                                                 review  \n",
      "1492  We visited the Havana's Club Museum which is l...  \n",
      "1500  We visited the Havana's Club Museum which is l...  \n",
      "    country                        restaurant_name sentiment  \\\n",
      "108  France              The Frog at Bercy Village  Negative   \n",
      "133  France              The Frog at Bercy Village  Negative   \n",
      "525   Italy  Ad Hoc Ristorante (Piazza del Popolo)  Negative   \n",
      "548   Italy  Ad Hoc Ristorante (Piazza del Popolo)  Negative   \n",
      "\n",
      "                review_title review_date  \\\n",
      "108  Overrated. Bad service.   Dec 2011    \n",
      "133  Overrated. Bad service.   Dec 2011    \n",
      "525  Overrated. Bad service.   Dec 2011    \n",
      "548  Overrated. Bad service.   Dec 2011    \n",
      "\n",
      "                                                review  \n",
      "108  We walked in with a ressie to an empty restaur...  \n",
      "133  We walked in with a ressie to an empty restaur...  \n",
      "525  We walked in with a ressie to an empty restaur...  \n",
      "548  We walked in with a ressie to an empty restaur...  \n",
      "    country                        restaurant_name sentiment    review_title  \\\n",
      "118  France              The Frog at Bercy Village  Negative  lost the touch   \n",
      "143  France              The Frog at Bercy Village  Negative  lost the touch   \n",
      "535   Italy  Ad Hoc Ristorante (Piazza del Popolo)  Negative  lost the touch   \n",
      "558   Italy  Ad Hoc Ristorante (Piazza del Popolo)  Negative  lost the touch   \n",
      "\n",
      "    review_date                                             review  \n",
      "118   Oct 2011   We went there for all the good critics here in...  \n",
      "143   Oct 2011   We went there for all the good critics here in...  \n",
      "535   Oct 2011   We went there for all the good critics here in...  \n",
      "558   Oct 2011   We went there for all the good critics here in...  \n",
      "    country                        restaurant_name sentiment  \\\n",
      "113  France              The Frog at Bercy Village  Negative   \n",
      "138  France              The Frog at Bercy Village  Negative   \n",
      "530   Italy  Ad Hoc Ristorante (Piazza del Popolo)  Negative   \n",
      "553   Italy  Ad Hoc Ristorante (Piazza del Popolo)  Negative   \n",
      "\n",
      "                                       review_title review_date  \\\n",
      "113  Absolutely not best in Rome - Would not return   Oct 2011    \n",
      "138  Absolutely not best in Rome - Would not return   Oct 2011    \n",
      "530  Absolutely not best in Rome - Would not return   Oct 2011    \n",
      "553  Absolutely not best in Rome - Would not return   Oct 2011    \n",
      "\n",
      "                                                review  \n",
      "113  With much anticipation we arrived for our rese...  \n",
      "138  With much anticipation we arrived for our rese...  \n",
      "530  With much anticipation we arrived for our rese...  \n",
      "553  With much anticipation we arrived for our rese...  \n",
      "     country           restaurant_name sentiment      review_title  \\\n",
      "1489    Cuba  Old Square (Plaza Vieja)  Negative  the beer factory   \n",
      "1498    Cuba  Old Square (Plaza Vieja)  Negative  the beer factory   \n",
      "\n",
      "     review_date                                             review  \n",
      "1489   Oct 2016   beer is good.  food is awfull  The only decent...  \n",
      "1498   Oct 2016   beer is good.  food is awfull  The only decent...  \n",
      "     country           restaurant_name sentiment review_title review_date  \\\n",
      "1491    Cuba  Old Square (Plaza Vieja)  Negative      brewery   Oct 2016    \n",
      "1499    Cuba  Old Square (Plaza Vieja)  Negative      brewery   Oct 2016    \n",
      "\n",
      "                                                 review  \n",
      "1491  for terrible service of a truly comedic level,...  \n",
      "1499  for terrible service of a truly comedic level,...  \n",
      "    country                        restaurant_name sentiment  \\\n",
      "115  France              The Frog at Bercy Village  Negative   \n",
      "140  France              The Frog at Bercy Village  Negative   \n",
      "532   Italy  Ad Hoc Ristorante (Piazza del Popolo)  Negative   \n",
      "555   Italy  Ad Hoc Ristorante (Piazza del Popolo)  Negative   \n",
      "\n",
      "          review_title review_date  \\\n",
      "115  expensive rubbish  Sept 2011    \n",
      "140  expensive rubbish  Sept 2011    \n",
      "532  expensive rubbish  Sept 2011    \n",
      "555  expensive rubbish  Sept 2011    \n",
      "\n",
      "                                                review  \n",
      "115  it took nearly 5 hours for them to complete ou...  \n",
      "140  it took nearly 5 hours for them to complete ou...  \n",
      "532  it took nearly 5 hours for them to complete ou...  \n",
      "555  it took nearly 5 hours for them to complete ou...  \n",
      "    country                        restaurant_name sentiment  \\\n",
      "126  France              The Frog at Bercy Village  Negative   \n",
      "518   Italy  Ad Hoc Ristorante (Piazza del Popolo)  Negative   \n",
      "\n",
      "           review_title review_date  \\\n",
      "126  “Ad hoc” rudeness!   Jun 2024    \n",
      "518  “Ad hoc” rudeness!   Jun 2024    \n",
      "\n",
      "                                                review  \n",
      "126  “Ad hoc” rudeness!!!\\nTerrible restaurant, rud...  \n",
      "518  “Ad hoc” rudeness!!!\\nTerrible restaurant, rud...  \n"
     ]
    }
   ],
   "source": [
    "for count_review, data_group in european_restaurants.groupby(\"review\"):\n",
    "    if len(data_group) > 1:\n",
    "        print(data_group)"
   ]
  },
  {
   "cell_type": "markdown",
   "id": "0d504b25-31fb-4935-a83b-2501362bf08c",
   "metadata": {},
   "source": [
    "#### There are duplicates, which have to be droped"
   ]
  },
  {
   "cell_type": "code",
   "execution_count": 34,
   "id": "5a0525b0-185d-4502-a7c9-3a7e9488d793",
   "metadata": {},
   "outputs": [],
   "source": [
    "european_restaurants = european_restaurants.drop_duplicates()"
   ]
  },
  {
   "cell_type": "code",
   "execution_count": 35,
   "id": "2da76e3a-9dea-4b3e-bed8-601fb7fa2c2a",
   "metadata": {},
   "outputs": [
    {
     "data": {
      "text/plain": [
       "102     3679\n",
       "27      3555\n",
       "66      3516\n",
       "98      3106\n",
       "101     3087\n",
       "        ... \n",
       "1493      76\n",
       "536       71\n",
       "559       71\n",
       "119       71\n",
       "183       10\n",
       "Name: review, Length: 1453, dtype: int64"
      ]
     },
     "execution_count": 35,
     "metadata": {},
     "output_type": "execute_result"
    }
   ],
   "source": [
    "european_restaurants.review.str.len().sort_values(ascending  = False)"
   ]
  },
  {
   "cell_type": "code",
   "execution_count": 42,
   "id": "8fce72e8-8b53-4f19-b13a-158fb8ae75cc",
   "metadata": {},
   "outputs": [],
   "source": [
    "all_reviews = \"\".join(european_restaurants.review.ravel()).lower()"
   ]
  },
  {
   "cell_type": "code",
   "execution_count": 43,
   "id": "9b8769be-6216-4988-a3f1-0053c05f5f9d",
   "metadata": {
    "scrolled": true
   },
   "outputs": [
    {
     "data": {
      "text/plain": [
       "Counter({' ': 90872,\n",
       "         'e': 53939,\n",
       "         't': 35644,\n",
       "         'a': 35397,\n",
       "         'o': 28707,\n",
       "         'i': 27455,\n",
       "         'n': 25711,\n",
       "         'r': 25399,\n",
       "         's': 24543,\n",
       "         'h': 18296,\n",
       "         'd': 17517,\n",
       "         'l': 17296,\n",
       "         'u': 11730,\n",
       "         'c': 11457,\n",
       "         'w': 11073,\n",
       "         'f': 10187,\n",
       "         'm': 9007,\n",
       "         'y': 8330,\n",
       "         'g': 7869,\n",
       "         'p': 7195,\n",
       "         '.': 6454,\n",
       "         'b': 6173,\n",
       "         'v': 5991,\n",
       "         ',': 3194,\n",
       "         'k': 3045,\n",
       "         '\\n': 1416,\n",
       "         '!': 1208,\n",
       "         'x': 1051,\n",
       "         \"'\": 628,\n",
       "         'j': 571,\n",
       "         'z': 567,\n",
       "         'q': 485,\n",
       "         '-': 430,\n",
       "         ')': 366,\n",
       "         '0': 360,\n",
       "         '(': 315,\n",
       "         '1': 267,\n",
       "         '2': 206,\n",
       "         '’': 183,\n",
       "         '5': 173,\n",
       "         '\"': 163,\n",
       "         '3': 143,\n",
       "         ':': 128,\n",
       "         '?': 92,\n",
       "         '&': 89,\n",
       "         '4': 85,\n",
       "         '/': 80,\n",
       "         ';': 62,\n",
       "         '8': 61,\n",
       "         'é': 61,\n",
       "         '*': 56,\n",
       "         '9': 54,\n",
       "         '️': 49,\n",
       "         '6': 47,\n",
       "         '…': 45,\n",
       "         '7': 36,\n",
       "         '“': 25,\n",
       "         '%': 23,\n",
       "         '”': 23,\n",
       "         '€': 21,\n",
       "         '‘': 15,\n",
       "         '🌝': 15,\n",
       "         '$': 13,\n",
       "         '+': 12,\n",
       "         'û': 10,\n",
       "         '£': 10,\n",
       "         '´': 10,\n",
       "         '👍': 10,\n",
       "         '😊': 10,\n",
       "         '#': 9,\n",
       "         'à': 9,\n",
       "         'è': 8,\n",
       "         '😍': 8,\n",
       "         'ü': 8,\n",
       "         '—': 7,\n",
       "         '\\\\': 7,\n",
       "         '❤': 7,\n",
       "         '\\xa0': 5,\n",
       "         'ç': 5,\n",
       "         '–': 4,\n",
       "         '`': 4,\n",
       "         '😁': 4,\n",
       "         '🤩': 4,\n",
       "         'ù': 3,\n",
       "         '👌': 3,\n",
       "         '👏': 3,\n",
       "         '😘': 3,\n",
       "         '😋': 3,\n",
       "         '😄': 2,\n",
       "         '🇷': 2,\n",
       "         '[': 2,\n",
       "         ']': 2,\n",
       "         '^': 2,\n",
       "         '🏾': 2,\n",
       "         '🏼': 2,\n",
       "         'ł': 2,\n",
       "         'ı': 2,\n",
       "         'ö': 2,\n",
       "         'ş': 2,\n",
       "         'ó': 2,\n",
       "         'ô': 1,\n",
       "         '½': 1,\n",
       "         '_': 1,\n",
       "         '✨': 1,\n",
       "         '😀': 1,\n",
       "         '🥂': 1,\n",
       "         '🇫': 1,\n",
       "         '@': 1,\n",
       "         '☺': 1,\n",
       "         '😉': 1,\n",
       "         '«': 1,\n",
       "         '»': 1,\n",
       "         'ñ': 1,\n",
       "         '🍹': 1,\n",
       "         '🙂': 1,\n",
       "         '🤗': 1,\n",
       "         '💪': 1,\n",
       "         '🍾': 1,\n",
       "         '🙏': 1,\n",
       "         '=': 1,\n",
       "         '>': 1,\n",
       "         '🥰': 1,\n",
       "         '🏿': 1,\n",
       "         '😡': 1,\n",
       "         'ś': 1,\n",
       "         '🔝': 1,\n",
       "         '⭐': 1,\n",
       "         '🆗': 1,\n",
       "         '🇵': 1,\n",
       "         '🇱': 1,\n",
       "         '🇦': 1,\n",
       "         '😃': 1,\n",
       "         'ğ': 1,\n",
       "         '🥪': 1,\n",
       "         '✌': 1,\n",
       "         '🥘': 1,\n",
       "         '💯': 1,\n",
       "         '¨': 1,\n",
       "         '🏻': 1,\n",
       "         '~': 1,\n",
       "         'ť': 1})"
      ]
     },
     "execution_count": 43,
     "metadata": {},
     "output_type": "execute_result"
    }
   ],
   "source": [
    "Counter(all_reviews)"
   ]
  },
  {
   "cell_type": "code",
   "execution_count": 69,
   "id": "09f211ac-5ff3-41e2-ab4b-fa48f581da9b",
   "metadata": {},
   "outputs": [
    {
     "data": {
      "text/plain": [
       "True"
      ]
     },
     "execution_count": 69,
     "metadata": {},
     "output_type": "execute_result"
    }
   ],
   "source": [
    "\"\" in \"\".join(european_restaurants.review.ravel()).split(\" \")"
   ]
  },
  {
   "cell_type": "code",
   "execution_count": 70,
   "id": "0e51e85d-f572-402c-bea4-96372dd0edda",
   "metadata": {},
   "outputs": [
    {
     "name": "stderr",
     "output_type": "stream",
     "text": [
      "/var/folders/nz/lkk4btz5339fx9fmmkl0b8zr0000gp/T/ipykernel_6659/704357542.py:1: SettingWithCopyWarning: \n",
      "A value is trying to be set on a copy of a slice from a DataFrame.\n",
      "Try using .loc[row_indexer,col_indexer] = value instead\n",
      "\n",
      "See the caveats in the documentation: https://pandas.pydata.org/pandas-docs/stable/user_guide/indexing.html#returning-a-view-versus-a-copy\n",
      "  european_restaurants.review = european_restaurants.review.apply(lambda x: \" \".join(x.split()))\n"
     ]
    }
   ],
   "source": [
    "european_restaurants.review = european_restaurants.review.apply(lambda x: \" \".join(x.split())) "
   ]
  },
  {
   "cell_type": "markdown",
   "id": "091399be-b4d5-4eb6-9ed8-e5f010dd9f63",
   "metadata": {},
   "source": [
    "#### I remove the empty spaces in each review"
   ]
  },
  {
   "cell_type": "markdown",
   "id": "2a8532af-2411-4d71-a003-0813be3f98de",
   "metadata": {},
   "source": [
    "#### Problem 4. Top words (1 point)\n",
    "Use a simple word tokenization and count the top 10 words in positive reviews; then the top 10 words in negative reviews*. Once again, try to define what \"top\" words means. Describe and document your process. Explain your results.\n",
    "\n",
    "\\* Okay, you may want to see top N words (with $N \\ge 10$)."
   ]
  },
  {
   "cell_type": "code",
   "execution_count": 76,
   "id": "89a84cb8-79aa-4837-9c6e-3e624c053799",
   "metadata": {},
   "outputs": [
    {
     "name": "stderr",
     "output_type": "stream",
     "text": [
      "[nltk_data] Downloading package stopwords to\n",
      "[nltk_data]     /Users/Temenuzhka/nltk_data...\n",
      "[nltk_data]   Package stopwords is already up-to-date!\n"
     ]
    },
    {
     "data": {
      "text/plain": [
       "True"
      ]
     },
     "execution_count": 76,
     "metadata": {},
     "output_type": "execute_result"
    }
   ],
   "source": [
    "nltk.download(\"stopwords\")"
   ]
  },
  {
   "cell_type": "code",
   "execution_count": 77,
   "id": "3cc5a1db-aa55-429e-a4b8-f9a501eddc62",
   "metadata": {},
   "outputs": [],
   "source": [
    "stop_words = stopwords.words(\"english\")"
   ]
  },
  {
   "cell_type": "code",
   "execution_count": 78,
   "id": "7114fcf9-c63a-41b2-9ff9-591a15d2ebe5",
   "metadata": {},
   "outputs": [
    {
     "name": "stdout",
     "output_type": "stream",
     "text": [
      "Negative [('food', 162), ('restaurant', 115), ('wine', 108), ('us', 108), ('would', 95), ('service', 93), ('good', 93), ('one', 92), ('table', 85), ('like', 67), ('could', 66), ('menu', 64), ('-', 63), ('asked', 62), ('really', 61), ('tasting', 60), ('ad', 58), ('place', 58), ('waitress', 58), ('even', 57)]\n",
      "Positive [('food', 532), ('great', 439), ('good', 389), ('service', 356), ('place', 274), ('restaurant', 261), ('nice', 244), ('really', 207), ('staff', 200), ('us', 188), ('wine', 184), ('friendly', 177), ('would', 173), ('menu', 163), ('-', 159), ('recommend', 153), ('best', 145), ('lovely', 142), ('also', 141), ('one', 131)]\n"
     ]
    }
   ],
   "source": [
    "most_common_words = []\n",
    "for sentiment, group_data in european_restaurants.groupby(\"sentiment\"):\n",
    "    all_words = \"\".join(group_data.review.str.lower().ravel()).split(\" \")\n",
    "    words_review = np.array([word for word in all_words if word not in stop_words])\n",
    "    most_common_words.append(words_review)\n",
    "    print(sentiment, Counter(words_review).most_common(20))"
   ]
  },
  {
   "cell_type": "code",
   "execution_count": 82,
   "id": "faaa6dd4-251e-4e32-9137-cc6c984726be",
   "metadata": {},
   "outputs": [
    {
     "data": {
      "image/png": "[encoded data removed]",
      "text/plain": [
       "<Figure size 640x480 with 1 Axes>"
      ]
     },
     "metadata": {},
     "output_type": "display_data"
    }
   ],
   "source": [
    "sentiment_negative = Counter(most_common_words[0]).most_common(20)\n",
    "sentiment_positive = Counter(most_common_words[1]).most_common(20)\n",
    "\n",
    "plt.bar([word for word, frequency in sentiment_negative],[frequency for word, frequency in sentiment_negative],alpha = 0.7)\n",
    "plt.bar([word for word, frequency in sentiment_positive],[frequency for word, frequency in sentiment_positive], alpha = 0.7)\n",
    "\n",
    "plt.ylabel(\"Count\")\n",
    "plt.xticks(rotation=90)\n",
    "\n",
    "plt.show()"
   ]
  },
  {
   "cell_type": "markdown",
   "id": "790ae91f-2def-41bc-8861-49fc5467b335",
   "metadata": {},
   "source": [
    "##### Problem 5. Review titles (2 point)\n",
    "How do the top words you found in the last problem correlate to the review titles? Do the top 10 words (for each sentiment) appear in the titles at all? Do reviews which contain one or more of the top words have the same words in their titles?\n",
    "\n",
    "Does the title of a comment present a good summary of its content? That is, are the titles descriptive, or are they simply meant to catch the attention of the reader?"
   ]
  },
  {
   "cell_type": "code",
   "execution_count": null,
   "id": "330b83f1-060e-47ae-8035-0b8372eed8d9",
   "metadata": {},
   "outputs": [],
   "source": []
  },
  {
   "cell_type": "markdown",
   "id": "a3a0aa94-23e4-4db1-a780-cd1bd3abb411",
   "metadata": {},
   "source": [
    "### Problem 6. Bag of words (1 point)\n",
    "Based on your findings so far, come up with a good set of settings (hyperparameters) for a bag-of-words model for review titles and contents. It's easiest to treat them separately (so, create two models); but you may also think about a unified representation. I find the simplest way of concatenating the title and content too simplistic to be useful, as it doesn't allow you to treat the title differently (e.g., by giving it more weight).\n",
    "\n",
    "The documentation for `CountVectorizer` is [here](https://scikit-learn.org/stable/modules/generated/sklearn.feature_extraction.text.CountVectorizer.html). Familiarize yourself with all settings; try out different combinations and come up with a final model; or rather - two models :)."
   ]
  },
  {
   "cell_type": "code",
   "execution_count": null,
   "id": "2ce7892f-cb37-48d3-83fc-0ccb56c2bb1a",
   "metadata": {},
   "outputs": [],
   "source": []
  },
  {
   "cell_type": "markdown",
   "id": "a337ce0f-2afe-422f-8e9d-beddd5635093",
   "metadata": {},
   "source": [
    "### Problem 7. Deep sentiment analysis models (1 point)\n",
    "Find a suitable model for sentiment analysis in English. Without modifying, training, or fine-tuning the model, make it predict all contents (or better, combinations of titles and contents, if you can). Meaure the accuracy of the model compared to the `sentiment` column in the dataset."
   ]
  },
  {
   "cell_type": "code",
   "execution_count": null,
   "id": "9292c210-ec5f-4738-8a6e-926345952848",
   "metadata": {},
   "outputs": [],
   "source": []
  },
  {
   "cell_type": "markdown",
   "id": "773d804d-9c83-48ec-be2b-8564d73d908c",
   "metadata": {},
   "source": [
    "### Problem 8. Deep features (embeddings) (1 point)\n",
    "Use the same model to perform feature extraction on the review contents (or contents + titles) instead of direct predictions. You should already be familiar how to do that from your work on images.\n",
    "\n",
    "Use the cosine similarity between texts to try to cluster them. Are there \"similar\" reviews (you'll need to find a way to measure similarity) across different restaurants? Are customers generally in agreement for the same restaurant?"
   ]
  },
  {
   "cell_type": "code",
   "execution_count": null,
   "id": "f732c764-2ef0-4da2-a662-f8cd7b684245",
   "metadata": {},
   "outputs": [],
   "source": []
  },
  {
   "cell_type": "markdown",
   "id": "c79a585f-1dad-469a-a2ae-31d3981b9e1b",
   "metadata": {},
   "source": [
    "### \\* Problem 9. Explore and model at will\n",
    "In this lab, we focused on preprocessing and feature extraction and we didn't really have a chance to train (or compare) models. The dataset is maybe too small to be conclusive, but feel free to play around with ready-made models, and train your own."
   ]
  },
  {
   "cell_type": "code",
   "execution_count": null,
   "id": "a1e90732-4d96-4692-8588-b9429430a98b",
   "metadata": {},
   "outputs": [],
   "source": []
  }
 ],
 "metadata": {
  "kernelspec": {
   "display_name": "Python 3 (ipykernel)",
   "language": "python",
   "name": "python3"
  },
  "language_info": {
   "codemirror_mode": {
    "name": "ipython",
    "version": 3
   },
   "file_extension": ".py",
   "mimetype": "text/x-python",
   "name": "python",
   "nbconvert_exporter": "python",
   "pygments_lexer": "ipython3",
   "version": "3.11.7"
  }
 },
 "nbformat": 4,
 "nbformat_minor": 5
}
